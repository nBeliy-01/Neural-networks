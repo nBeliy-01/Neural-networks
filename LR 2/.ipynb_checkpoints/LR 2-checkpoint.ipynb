{
 "cells": [
  {
   "cell_type": "markdown",
   "metadata": {},
   "source": [
    "<center><h1>Лабораторна робота №2</h1>\n",
    "    <h3>Студетна групи АнД - 31</h3>\n",
    "    <h3>Білухи Назара Романовича</h3>\n",
    "    <h3>Варіант 1</h3>\n",
    "    <h3>TensorFlow</h3></center>\n"
   ]
  },
  {
   "cell_type": "code",
   "execution_count": 1,
   "metadata": {},
   "outputs": [],
   "source": [
    "import tensorflow as tf"
   ]
  },
  {
   "cell_type": "markdown",
   "metadata": {},
   "source": [
    "## Створення тензору "
   ]
  },
  {
   "cell_type": "code",
   "execution_count": 3,
   "metadata": {},
   "outputs": [
    {
     "data": {
      "text/plain": [
       "<tf.Tensor: shape=(), dtype=string, numpy=b'Value'>"
      ]
     },
     "execution_count": 3,
     "metadata": {},
     "output_type": "execute_result"
    }
   ],
   "source": [
    "# Незмінюваний тензор\n",
    "tensor = tf.constant('Value')\n",
    "tensor"
   ]
  },
  {
   "cell_type": "code",
   "execution_count": 4,
   "metadata": {},
   "outputs": [
    {
     "data": {
      "text/plain": [
       "<tf.Tensor: shape=(2, 3), dtype=int32, numpy=\n",
       "array([[1, 0, 1],\n",
       "       [2, 3, 4]])>"
      ]
     },
     "execution_count": 4,
     "metadata": {},
     "output_type": "execute_result"
    }
   ],
   "source": [
    "tensor = tf.constant([[1,0,1], [2,3,4]])\n",
    "tensor"
   ]
  },
  {
   "cell_type": "code",
   "execution_count": 5,
   "metadata": {},
   "outputs": [
    {
     "data": {
      "text/plain": [
       "<tf.Tensor: shape=(2, 3), dtype=int32, numpy=\n",
       "array([[1, 3, 5],\n",
       "       [2, 4, 6]])>"
      ]
     },
     "execution_count": 5,
     "metadata": {},
     "output_type": "execute_result"
    }
   ],
   "source": [
    "tensor = tf.constant([1,3,5,2,4,6], shape=(2,3))\n",
    "tensor"
   ]
  },
  {
   "cell_type": "code",
   "execution_count": 6,
   "metadata": {},
   "outputs": [
    {
     "data": {
      "text/plain": [
       "<tf.Variable 'Variable:0' shape=(2, 3) dtype=int32, numpy=\n",
       "array([[1, 2, 3],\n",
       "       [3, 2, 1]])>"
      ]
     },
     "execution_count": 6,
     "metadata": {},
     "output_type": "execute_result"
    }
   ],
   "source": [
    "# змінюваний тензор\n",
    "tensor = tf.Variable([[1,2,3], [3,2,1]])\n",
    "tensor"
   ]
  },
  {
   "cell_type": "code",
   "execution_count": 19,
   "metadata": {},
   "outputs": [
    {
     "data": {
      "text/plain": [
       "<tf.Variable 'Variable:0' shape=(2, 3) dtype=int32, numpy=\n",
       "array([[0, 0, 0],\n",
       "       [3, 2, 1]])>"
      ]
     },
     "execution_count": 19,
     "metadata": {},
     "output_type": "execute_result"
    }
   ],
   "source": [
    "tensor[0].assign([0,0,0])\n",
    "tensor"
   ]
  },
  {
   "cell_type": "markdown",
   "metadata": {},
   "source": [
    "## Створення набору даних для визначення властивостей"
   ]
  },
  {
   "cell_type": "code",
   "execution_count": 18,
   "metadata": {},
   "outputs": [
    {
     "data": {
      "text/plain": [
       "<tf.Tensor: shape=(3, 3, 2, 2), dtype=float32, numpy=\n",
       "array([[[[ 65., -82.],\n",
       "         [-59., -93.]],\n",
       "\n",
       "        [[ 67.,  55.],\n",
       "         [ 84., -90.]],\n",
       "\n",
       "        [[-32., -29.],\n",
       "         [-21., -42.]]],\n",
       "\n",
       "\n",
       "       [[[ 76., -18.],\n",
       "         [-36., -95.]],\n",
       "\n",
       "        [[-29., -58.],\n",
       "         [-83.,  63.]],\n",
       "\n",
       "        [[ 82.,  64.],\n",
       "         [-90., -71.]]],\n",
       "\n",
       "\n",
       "       [[[-51., -39.],\n",
       "         [ -0.,  68.]],\n",
       "\n",
       "        [[ 13., -82.],\n",
       "         [ 21., -18.]],\n",
       "\n",
       "        [[  1.,  23.],\n",
       "         [-27., -53.]]]], dtype=float32)>"
      ]
     },
     "execution_count": 18,
     "metadata": {},
     "output_type": "execute_result"
    }
   ],
   "source": [
    "tensor = tf.math.round(tf.random.uniform((3, 3, 2, 2), -100, 100))\n",
    "tensor"
   ]
  },
  {
   "cell_type": "code",
   "execution_count": 27,
   "metadata": {},
   "outputs": [
    {
     "name": "stdout",
     "output_type": "stream",
     "text": [
      "Тип елементів тензору: <dtype: 'float32'>\n",
      "Вигляд(форма) тензору: (3, 3, 2, 2)\n",
      "Порядок тензору: 4\n",
      "Розмір тензору: 36\n",
      "Кількість елементів першої осі тензору: 3\n",
      "Кількість елементів другої осі тензору: 3\n",
      "Кількість елементів третьої осі тензору: 2\n",
      "Кількість елементів четвертої осі тензору: 2\n"
     ]
    }
   ],
   "source": [
    "# Властивості тензору\n",
    "print('Тип елементів тензору:', tensor.dtype)\n",
    "print('Вигляд(форма) тензору:', tensor.shape)\n",
    "print('Порядок тензору:', tensor.ndim)\n",
    "print('Розмір тензору:', tf.size(tensor).numpy())\n",
    "print('Кількість елементів першої осі тензору:', tensor.shape[0])\n",
    "print('Кількість елементів другої осі тензору:', tensor.shape[1])\n",
    "print('Кількість елементів третьої осі тензору:', tensor.shape[2])\n",
    "print('Кількість елементів четвертої осі тензору:', tensor.shape[3])"
   ]
  },
  {
   "cell_type": "markdown",
   "metadata": {},
   "source": [
    "## Базові операції"
   ]
  },
  {
   "cell_type": "code",
   "execution_count": 36,
   "metadata": {
    "scrolled": true
   },
   "outputs": [
    {
     "name": "stdout",
     "output_type": "stream",
     "text": [
      "Перший тензор\n",
      " tf.Tensor(\n",
      "[[[-3. -2.]\n",
      "  [-2.  4.]]\n",
      "\n",
      " [[-3. -3.]\n",
      "  [-4.  1.]]\n",
      "\n",
      " [[-3.  2.]\n",
      "  [ 2.  3.]]], shape=(3, 2, 2), dtype=float32) \n",
      "\n",
      "Другий тензор\n",
      " tf.Tensor(\n",
      "[[[ 4. -3.]\n",
      "  [-4. -1.]]\n",
      "\n",
      " [[ 3.  0.]\n",
      "  [ 1.  5.]]\n",
      "\n",
      " [[ 2. -3.]\n",
      "  [-3.  5.]]], shape=(3, 2, 2), dtype=float32)\n"
     ]
    }
   ],
   "source": [
    "tf1 = tf.math.round(tf.random.uniform((3, 2, 2), -5, 5))\n",
    "tf2 = tf.math.round(tf.random.uniform((3, 2, 2), -5, 5))\n",
    "print('Перший тензор\\n', tf1, '\\n\\nДругий тензор\\n', tf2)"
   ]
  },
  {
   "cell_type": "code",
   "execution_count": 37,
   "metadata": {},
   "outputs": [
    {
     "data": {
      "text/plain": [
       "<tf.Tensor: shape=(3, 2, 2), dtype=float32, numpy=\n",
       "array([[[ 1., -5.],\n",
       "        [-6.,  3.]],\n",
       "\n",
       "       [[ 0., -3.],\n",
       "        [-3.,  6.]],\n",
       "\n",
       "       [[-1., -1.],\n",
       "        [-1.,  8.]]], dtype=float32)>"
      ]
     },
     "execution_count": 37,
     "metadata": {},
     "output_type": "execute_result"
    }
   ],
   "source": [
    "# додавання \n",
    "tf1 + tf2"
   ]
  },
  {
   "cell_type": "code",
   "execution_count": 38,
   "metadata": {},
   "outputs": [
    {
     "data": {
      "text/plain": [
       "<tf.Tensor: shape=(3, 2, 2), dtype=float32, numpy=\n",
       "array([[[-7.,  1.],\n",
       "        [ 2.,  5.]],\n",
       "\n",
       "       [[-6., -3.],\n",
       "        [-5., -4.]],\n",
       "\n",
       "       [[-5.,  5.],\n",
       "        [ 5., -2.]]], dtype=float32)>"
      ]
     },
     "execution_count": 38,
     "metadata": {},
     "output_type": "execute_result"
    }
   ],
   "source": [
    "# віднімання \n",
    "tf1 - tf2"
   ]
  },
  {
   "cell_type": "code",
   "execution_count": 39,
   "metadata": {},
   "outputs": [
    {
     "data": {
      "text/plain": [
       "<tf.Tensor: shape=(3, 2, 2), dtype=float32, numpy=\n",
       "array([[[ -9.,  -6.],\n",
       "        [ -6.,  12.]],\n",
       "\n",
       "       [[ -9.,  -9.],\n",
       "        [-12.,   3.]],\n",
       "\n",
       "       [[ -9.,   6.],\n",
       "        [  6.,   9.]]], dtype=float32)>"
      ]
     },
     "execution_count": 39,
     "metadata": {},
     "output_type": "execute_result"
    }
   ],
   "source": [
    "# множення на скаляр\n",
    "tf1 * 3"
   ]
  },
  {
   "cell_type": "code",
   "execution_count": 42,
   "metadata": {},
   "outputs": [
    {
     "name": "stdout",
     "output_type": "stream",
     "text": [
      "tf.Tensor(\n",
      "[[[-12.   6.]\n",
      "  [  8.  -4.]]\n",
      "\n",
      " [[ -9.  -0.]\n",
      "  [ -4.   5.]]\n",
      "\n",
      " [[ -6.  -6.]\n",
      "  [ -6.  15.]]], shape=(3, 2, 2), dtype=float32)\n",
      "\n",
      " tf.Tensor(\n",
      "[[[ -4.  11.]\n",
      "  [-24.   2.]]\n",
      "\n",
      " [[-12. -15.]\n",
      "  [-11.   5.]]\n",
      "\n",
      " [[-12.  19.]\n",
      "  [ -5.   9.]]], shape=(3, 2, 2), dtype=float32)\n"
     ]
    }
   ],
   "source": [
    "# множення матричне @ аналогічно tf.multiply\n",
    "print(tf.multiply(tf1, tf2))\n",
    "print('\\n', tf1 @ tf2)"
   ]
  },
  {
   "cell_type": "code",
   "execution_count": 44,
   "metadata": {},
   "outputs": [
    {
     "data": {
      "text/plain": [
       "<tf.Tensor: shape=(3, 2, 2, 3, 2, 2), dtype=float32, numpy=\n",
       "array([[[[[[-12.,   9.],\n",
       "           [ 12.,   3.]],\n",
       "\n",
       "          [[ -9.,   0.],\n",
       "           [ -3., -15.]],\n",
       "\n",
       "          [[ -6.,   9.],\n",
       "           [  9., -15.]]],\n",
       "\n",
       "\n",
       "         [[[ -8.,   6.],\n",
       "           [  8.,   2.]],\n",
       "\n",
       "          [[ -6.,   0.],\n",
       "           [ -2., -10.]],\n",
       "\n",
       "          [[ -4.,   6.],\n",
       "           [  6., -10.]]]],\n",
       "\n",
       "\n",
       "\n",
       "        [[[[ -8.,   6.],\n",
       "           [  8.,   2.]],\n",
       "\n",
       "          [[ -6.,   0.],\n",
       "           [ -2., -10.]],\n",
       "\n",
       "          [[ -4.,   6.],\n",
       "           [  6., -10.]]],\n",
       "\n",
       "\n",
       "         [[[ 16., -12.],\n",
       "           [-16.,  -4.]],\n",
       "\n",
       "          [[ 12.,   0.],\n",
       "           [  4.,  20.]],\n",
       "\n",
       "          [[  8., -12.],\n",
       "           [-12.,  20.]]]]],\n",
       "\n",
       "\n",
       "\n",
       "\n",
       "       [[[[[-12.,   9.],\n",
       "           [ 12.,   3.]],\n",
       "\n",
       "          [[ -9.,   0.],\n",
       "           [ -3., -15.]],\n",
       "\n",
       "          [[ -6.,   9.],\n",
       "           [  9., -15.]]],\n",
       "\n",
       "\n",
       "         [[[-12.,   9.],\n",
       "           [ 12.,   3.]],\n",
       "\n",
       "          [[ -9.,   0.],\n",
       "           [ -3., -15.]],\n",
       "\n",
       "          [[ -6.,   9.],\n",
       "           [  9., -15.]]]],\n",
       "\n",
       "\n",
       "\n",
       "        [[[[-16.,  12.],\n",
       "           [ 16.,   4.]],\n",
       "\n",
       "          [[-12.,   0.],\n",
       "           [ -4., -20.]],\n",
       "\n",
       "          [[ -8.,  12.],\n",
       "           [ 12., -20.]]],\n",
       "\n",
       "\n",
       "         [[[  4.,  -3.],\n",
       "           [ -4.,  -1.]],\n",
       "\n",
       "          [[  3.,   0.],\n",
       "           [  1.,   5.]],\n",
       "\n",
       "          [[  2.,  -3.],\n",
       "           [ -3.,   5.]]]]],\n",
       "\n",
       "\n",
       "\n",
       "\n",
       "       [[[[[-12.,   9.],\n",
       "           [ 12.,   3.]],\n",
       "\n",
       "          [[ -9.,   0.],\n",
       "           [ -3., -15.]],\n",
       "\n",
       "          [[ -6.,   9.],\n",
       "           [  9., -15.]]],\n",
       "\n",
       "\n",
       "         [[[  8.,  -6.],\n",
       "           [ -8.,  -2.]],\n",
       "\n",
       "          [[  6.,   0.],\n",
       "           [  2.,  10.]],\n",
       "\n",
       "          [[  4.,  -6.],\n",
       "           [ -6.,  10.]]]],\n",
       "\n",
       "\n",
       "\n",
       "        [[[[  8.,  -6.],\n",
       "           [ -8.,  -2.]],\n",
       "\n",
       "          [[  6.,   0.],\n",
       "           [  2.,  10.]],\n",
       "\n",
       "          [[  4.,  -6.],\n",
       "           [ -6.,  10.]]],\n",
       "\n",
       "\n",
       "         [[[ 12.,  -9.],\n",
       "           [-12.,  -3.]],\n",
       "\n",
       "          [[  9.,   0.],\n",
       "           [  3.,  15.]],\n",
       "\n",
       "          [[  6.,  -9.],\n",
       "           [ -9.,  15.]]]]]], dtype=float32)>"
      ]
     },
     "execution_count": 44,
     "metadata": {},
     "output_type": "execute_result"
    }
   ],
   "source": [
    "# векторне внутрішнє множення\n",
    "tf.tensordot(tf1, tf2, axes=0)"
   ]
  },
  {
   "cell_type": "code",
   "execution_count": 49,
   "metadata": {},
   "outputs": [
    {
     "name": "stdout",
     "output_type": "stream",
     "text": [
      "Середнє арифметичне: tf.Tensor(-0.6666667, shape=(), dtype=float32)\n",
      "\n",
      "Максимальний елемент по рядках: tf.Tensor(4.0, shape=(), dtype=float32)\n",
      "\n",
      "Мінмімальний елемент по рядках: tf.Tensor(-4.0, shape=(), dtype=float32)\n",
      "\n",
      "Добуток усіх елементів: tf.Tensor(-62208.0, shape=(), dtype=float32)\n",
      "\n",
      "Квадрат кожного елементу:\n",
      " tf.Tensor(\n",
      "[[[ 9.  4.]\n",
      "  [ 4. 16.]]\n",
      "\n",
      " [[ 9.  9.]\n",
      "  [16.  1.]]\n",
      "\n",
      " [[ 9.  4.]\n",
      "  [ 4.  9.]]], shape=(3, 2, 2), dtype=float32)\n"
     ]
    }
   ],
   "source": [
    "# інші операції\n",
    "print(\"Середнє арифметичне:\", tf.reduce_mean(tf1))\n",
    "print(\"\\nМаксимальний елемент по рядках:\", tf.reduce_max(tf1))\n",
    "print(\"\\nМінмімальний елемент по рядках:\", tf.reduce_min(tf1))\n",
    "print(\"\\nДобуток усіх елементів:\", tf.reduce_prod(tf1))\n",
    "print(\"\\nКвадрат кожного елементу:\\n\", tf.square(tf1))"
   ]
  }
 ],
 "metadata": {
  "kernelspec": {
   "display_name": "Python 3",
   "language": "python",
   "name": "python3"
  },
  "language_info": {
   "codemirror_mode": {
    "name": "ipython",
    "version": 3
   },
   "file_extension": ".py",
   "mimetype": "text/x-python",
   "name": "python",
   "nbconvert_exporter": "python",
   "pygments_lexer": "ipython3",
   "version": "3.7.3"
  }
 },
 "nbformat": 4,
 "nbformat_minor": 2
}
