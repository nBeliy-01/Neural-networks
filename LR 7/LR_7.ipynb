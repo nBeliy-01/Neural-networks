{
  "nbformat": 4,
  "nbformat_minor": 0,
  "metadata": {
    "colab": {
      "name": "LR_7.ipynb",
      "provenance": [],
      "collapsed_sections": [],
      "authorship_tag": "ABX9TyNPogH8Lry9T2VHChiW6i/O",
      "include_colab_link": true
    },
    "kernelspec": {
      "name": "python3",
      "display_name": "Python 3"
    },
    "language_info": {
      "name": "python"
    }
  },
  "cells": [
    {
      "cell_type": "markdown",
      "metadata": {
        "id": "view-in-github",
        "colab_type": "text"
      },
      "source": [
        "<a href=\"https://colab.research.google.com/github/nBeliy-01/Neural-networks/blob/master/LR%207/LR_7.ipynb\" target=\"_parent\"><img src=\"https://colab.research.google.com/assets/colab-badge.svg\" alt=\"Open In Colab\"/></a>"
      ]
    },
    {
      "cell_type": "markdown",
      "source": [
        "<center><h1>Лабораторна робота №7</h1>\n",
        "    <h3>Студетна групи АнД - 31</h3>\n",
        "    <h3>Білухи Назара Романовича</h3>\n",
        "    <h3>Варіант 1</h3>"
      ],
      "metadata": {
        "id": "R1dPSUbycb32"
      }
    },
    {
      "cell_type": "code",
      "execution_count": 1,
      "metadata": {
        "colab": {
          "base_uri": "https://localhost:8080/"
        },
        "id": "I7eV5al4cL5V",
        "outputId": "e686fe3a-66a6-4525-97dc-01fc3ec07eb1"
      },
      "outputs": [
        {
          "output_type": "stream",
          "name": "stdout",
          "text": [
            "--2022-06-06 14:40:28--  https://raw.githubusercontent.com/mrdbourke/tensorflow-deep-learning/main/extras/BTC_USD_2013-10-01_2021-05-18-CoinDesk.csv\n",
            "Resolving raw.githubusercontent.com (raw.githubusercontent.com)... 185.199.108.133, 185.199.109.133, 185.199.110.133, ...\n",
            "Connecting to raw.githubusercontent.com (raw.githubusercontent.com)|185.199.108.133|:443... connected.\n",
            "HTTP request sent, awaiting response... 200 OK\n",
            "Length: 178509 (174K) [text/plain]\n",
            "Saving to: ‘BTC_USD_2013-10-01_2021-05-18-CoinDesk.csv’\n",
            "\n",
            "\r          BTC_USD_2   0%[                    ]       0  --.-KB/s               \rBTC_USD_2013-10-01_ 100%[===================>] 174.33K  --.-KB/s    in 0.02s   \n",
            "\n",
            "2022-06-06 14:40:28 (7.33 MB/s) - ‘BTC_USD_2013-10-01_2021-05-18-CoinDesk.csv’ saved [178509/178509]\n",
            "\n"
          ]
        }
      ],
      "source": [
        "# Download Bitcoin historical data from GitHub \n",
        "# Note: you'll need to select \"Raw\" to download the data in the correct format\n",
        "!wget https://raw.githubusercontent.com/mrdbourke/tensorflow-deep-learning/main/extras/BTC_USD_2013-10-01_2021-05-18-CoinDesk.csv "
      ]
    },
    {
      "cell_type": "code",
      "source": [
        "import pandas as pd\n",
        "import tensorflow as tf\n",
        "import numpy as np\n",
        "import os\n",
        "\n",
        "from tensorflow.keras import layers"
      ],
      "metadata": {
        "id": "KV6u2Mldda1S"
      },
      "execution_count": 22,
      "outputs": []
    },
    {
      "cell_type": "code",
      "source": [
        "df = pd.read_csv(\"/content/BTC_USD_2013-10-01_2021-05-18-CoinDesk.csv\", \n",
        "                 parse_dates=[\"Date\"], \n",
        "                 index_col=[\"Date\"])\n",
        "df.head()"
      ],
      "metadata": {
        "colab": {
          "base_uri": "https://localhost:8080/",
          "height": 237
        },
        "id": "HDPOHQV_dbqg",
        "outputId": "93c93c0d-785c-4ad5-f960-795ce1970e82"
      },
      "execution_count": 3,
      "outputs": [
        {
          "output_type": "execute_result",
          "data": {
            "text/plain": [
              "           Currency  Closing Price (USD)  24h Open (USD)  24h High (USD)  \\\n",
              "Date                                                                       \n",
              "2013-10-01      BTC            123.65499       124.30466       124.75166   \n",
              "2013-10-02      BTC            125.45500       123.65499       125.75850   \n",
              "2013-10-03      BTC            108.58483       125.45500       125.66566   \n",
              "2013-10-04      BTC            118.67466       108.58483       118.67500   \n",
              "2013-10-05      BTC            121.33866       118.67466       121.93633   \n",
              "\n",
              "            24h Low (USD)  \n",
              "Date                       \n",
              "2013-10-01      122.56349  \n",
              "2013-10-02      123.63383  \n",
              "2013-10-03       83.32833  \n",
              "2013-10-04      107.05816  \n",
              "2013-10-05      118.00566  "
            ],
            "text/html": [
              "\n",
              "  <div id=\"df-fdc1ff80-265e-4035-907f-0f7c045f2859\">\n",
              "    <div class=\"colab-df-container\">\n",
              "      <div>\n",
              "<style scoped>\n",
              "    .dataframe tbody tr th:only-of-type {\n",
              "        vertical-align: middle;\n",
              "    }\n",
              "\n",
              "    .dataframe tbody tr th {\n",
              "        vertical-align: top;\n",
              "    }\n",
              "\n",
              "    .dataframe thead th {\n",
              "        text-align: right;\n",
              "    }\n",
              "</style>\n",
              "<table border=\"1\" class=\"dataframe\">\n",
              "  <thead>\n",
              "    <tr style=\"text-align: right;\">\n",
              "      <th></th>\n",
              "      <th>Currency</th>\n",
              "      <th>Closing Price (USD)</th>\n",
              "      <th>24h Open (USD)</th>\n",
              "      <th>24h High (USD)</th>\n",
              "      <th>24h Low (USD)</th>\n",
              "    </tr>\n",
              "    <tr>\n",
              "      <th>Date</th>\n",
              "      <th></th>\n",
              "      <th></th>\n",
              "      <th></th>\n",
              "      <th></th>\n",
              "      <th></th>\n",
              "    </tr>\n",
              "  </thead>\n",
              "  <tbody>\n",
              "    <tr>\n",
              "      <th>2013-10-01</th>\n",
              "      <td>BTC</td>\n",
              "      <td>123.65499</td>\n",
              "      <td>124.30466</td>\n",
              "      <td>124.75166</td>\n",
              "      <td>122.56349</td>\n",
              "    </tr>\n",
              "    <tr>\n",
              "      <th>2013-10-02</th>\n",
              "      <td>BTC</td>\n",
              "      <td>125.45500</td>\n",
              "      <td>123.65499</td>\n",
              "      <td>125.75850</td>\n",
              "      <td>123.63383</td>\n",
              "    </tr>\n",
              "    <tr>\n",
              "      <th>2013-10-03</th>\n",
              "      <td>BTC</td>\n",
              "      <td>108.58483</td>\n",
              "      <td>125.45500</td>\n",
              "      <td>125.66566</td>\n",
              "      <td>83.32833</td>\n",
              "    </tr>\n",
              "    <tr>\n",
              "      <th>2013-10-04</th>\n",
              "      <td>BTC</td>\n",
              "      <td>118.67466</td>\n",
              "      <td>108.58483</td>\n",
              "      <td>118.67500</td>\n",
              "      <td>107.05816</td>\n",
              "    </tr>\n",
              "    <tr>\n",
              "      <th>2013-10-05</th>\n",
              "      <td>BTC</td>\n",
              "      <td>121.33866</td>\n",
              "      <td>118.67466</td>\n",
              "      <td>121.93633</td>\n",
              "      <td>118.00566</td>\n",
              "    </tr>\n",
              "  </tbody>\n",
              "</table>\n",
              "</div>\n",
              "      <button class=\"colab-df-convert\" onclick=\"convertToInteractive('df-fdc1ff80-265e-4035-907f-0f7c045f2859')\"\n",
              "              title=\"Convert this dataframe to an interactive table.\"\n",
              "              style=\"display:none;\">\n",
              "        \n",
              "  <svg xmlns=\"http://www.w3.org/2000/svg\" height=\"24px\"viewBox=\"0 0 24 24\"\n",
              "       width=\"24px\">\n",
              "    <path d=\"M0 0h24v24H0V0z\" fill=\"none\"/>\n",
              "    <path d=\"M18.56 5.44l.94 2.06.94-2.06 2.06-.94-2.06-.94-.94-2.06-.94 2.06-2.06.94zm-11 1L8.5 8.5l.94-2.06 2.06-.94-2.06-.94L8.5 2.5l-.94 2.06-2.06.94zm10 10l.94 2.06.94-2.06 2.06-.94-2.06-.94-.94-2.06-.94 2.06-2.06.94z\"/><path d=\"M17.41 7.96l-1.37-1.37c-.4-.4-.92-.59-1.43-.59-.52 0-1.04.2-1.43.59L10.3 9.45l-7.72 7.72c-.78.78-.78 2.05 0 2.83L4 21.41c.39.39.9.59 1.41.59.51 0 1.02-.2 1.41-.59l7.78-7.78 2.81-2.81c.8-.78.8-2.07 0-2.86zM5.41 20L4 18.59l7.72-7.72 1.47 1.35L5.41 20z\"/>\n",
              "  </svg>\n",
              "      </button>\n",
              "      \n",
              "  <style>\n",
              "    .colab-df-container {\n",
              "      display:flex;\n",
              "      flex-wrap:wrap;\n",
              "      gap: 12px;\n",
              "    }\n",
              "\n",
              "    .colab-df-convert {\n",
              "      background-color: #E8F0FE;\n",
              "      border: none;\n",
              "      border-radius: 50%;\n",
              "      cursor: pointer;\n",
              "      display: none;\n",
              "      fill: #1967D2;\n",
              "      height: 32px;\n",
              "      padding: 0 0 0 0;\n",
              "      width: 32px;\n",
              "    }\n",
              "\n",
              "    .colab-df-convert:hover {\n",
              "      background-color: #E2EBFA;\n",
              "      box-shadow: 0px 1px 2px rgba(60, 64, 67, 0.3), 0px 1px 3px 1px rgba(60, 64, 67, 0.15);\n",
              "      fill: #174EA6;\n",
              "    }\n",
              "\n",
              "    [theme=dark] .colab-df-convert {\n",
              "      background-color: #3B4455;\n",
              "      fill: #D2E3FC;\n",
              "    }\n",
              "\n",
              "    [theme=dark] .colab-df-convert:hover {\n",
              "      background-color: #434B5C;\n",
              "      box-shadow: 0px 1px 3px 1px rgba(0, 0, 0, 0.15);\n",
              "      filter: drop-shadow(0px 1px 2px rgba(0, 0, 0, 0.3));\n",
              "      fill: #FFFFFF;\n",
              "    }\n",
              "  </style>\n",
              "\n",
              "      <script>\n",
              "        const buttonEl =\n",
              "          document.querySelector('#df-fdc1ff80-265e-4035-907f-0f7c045f2859 button.colab-df-convert');\n",
              "        buttonEl.style.display =\n",
              "          google.colab.kernel.accessAllowed ? 'block' : 'none';\n",
              "\n",
              "        async function convertToInteractive(key) {\n",
              "          const element = document.querySelector('#df-fdc1ff80-265e-4035-907f-0f7c045f2859');\n",
              "          const dataTable =\n",
              "            await google.colab.kernel.invokeFunction('convertToInteractive',\n",
              "                                                     [key], {});\n",
              "          if (!dataTable) return;\n",
              "\n",
              "          const docLinkHtml = 'Like what you see? Visit the ' +\n",
              "            '<a target=\"_blank\" href=https://colab.research.google.com/notebooks/data_table.ipynb>data table notebook</a>'\n",
              "            + ' to learn more about interactive tables.';\n",
              "          element.innerHTML = '';\n",
              "          dataTable['output_type'] = 'display_data';\n",
              "          await google.colab.output.renderOutput(dataTable, element);\n",
              "          const docLink = document.createElement('div');\n",
              "          docLink.innerHTML = docLinkHtml;\n",
              "          element.appendChild(docLink);\n",
              "        }\n",
              "      </script>\n",
              "    </div>\n",
              "  </div>\n",
              "  "
            ]
          },
          "metadata": {},
          "execution_count": 3
        }
      ]
    },
    {
      "cell_type": "code",
      "source": [
        "# info about dataset\n",
        "df.info()"
      ],
      "metadata": {
        "colab": {
          "base_uri": "https://localhost:8080/"
        },
        "id": "jYYEdW1ydbsI",
        "outputId": "e9d62cb4-dc42-44ee-90e7-70b8c15fc311"
      },
      "execution_count": 4,
      "outputs": [
        {
          "output_type": "stream",
          "name": "stdout",
          "text": [
            "<class 'pandas.core.frame.DataFrame'>\n",
            "DatetimeIndex: 2787 entries, 2013-10-01 to 2021-05-18\n",
            "Data columns (total 5 columns):\n",
            " #   Column               Non-Null Count  Dtype  \n",
            "---  ------               --------------  -----  \n",
            " 0   Currency             2787 non-null   object \n",
            " 1   Closing Price (USD)  2787 non-null   float64\n",
            " 2   24h Open (USD)       2787 non-null   float64\n",
            " 3   24h High (USD)       2787 non-null   float64\n",
            " 4   24h Low (USD)        2787 non-null   float64\n",
            "dtypes: float64(4), object(1)\n",
            "memory usage: 130.6+ KB\n"
          ]
        }
      ]
    },
    {
      "cell_type": "code",
      "source": [
        "# generate date and price values only\n",
        "bitcoin_prices = pd.DataFrame(df[\"Closing Price (USD)\"]).rename(columns={\"Closing Price (USD)\": \"Price\"})\n",
        "bitcoin_prices.head()"
      ],
      "metadata": {
        "colab": {
          "base_uri": "https://localhost:8080/",
          "height": 237
        },
        "id": "Rjeju8UYdbvJ",
        "outputId": "21e9c9a8-c71d-409b-8e0e-a6145fc6c653"
      },
      "execution_count": 5,
      "outputs": [
        {
          "output_type": "execute_result",
          "data": {
            "text/plain": [
              "                Price\n",
              "Date                 \n",
              "2013-10-01  123.65499\n",
              "2013-10-02  125.45500\n",
              "2013-10-03  108.58483\n",
              "2013-10-04  118.67466\n",
              "2013-10-05  121.33866"
            ],
            "text/html": [
              "\n",
              "  <div id=\"df-cbf390d6-a977-4834-a043-518fc95b8cbf\">\n",
              "    <div class=\"colab-df-container\">\n",
              "      <div>\n",
              "<style scoped>\n",
              "    .dataframe tbody tr th:only-of-type {\n",
              "        vertical-align: middle;\n",
              "    }\n",
              "\n",
              "    .dataframe tbody tr th {\n",
              "        vertical-align: top;\n",
              "    }\n",
              "\n",
              "    .dataframe thead th {\n",
              "        text-align: right;\n",
              "    }\n",
              "</style>\n",
              "<table border=\"1\" class=\"dataframe\">\n",
              "  <thead>\n",
              "    <tr style=\"text-align: right;\">\n",
              "      <th></th>\n",
              "      <th>Price</th>\n",
              "    </tr>\n",
              "    <tr>\n",
              "      <th>Date</th>\n",
              "      <th></th>\n",
              "    </tr>\n",
              "  </thead>\n",
              "  <tbody>\n",
              "    <tr>\n",
              "      <th>2013-10-01</th>\n",
              "      <td>123.65499</td>\n",
              "    </tr>\n",
              "    <tr>\n",
              "      <th>2013-10-02</th>\n",
              "      <td>125.45500</td>\n",
              "    </tr>\n",
              "    <tr>\n",
              "      <th>2013-10-03</th>\n",
              "      <td>108.58483</td>\n",
              "    </tr>\n",
              "    <tr>\n",
              "      <th>2013-10-04</th>\n",
              "      <td>118.67466</td>\n",
              "    </tr>\n",
              "    <tr>\n",
              "      <th>2013-10-05</th>\n",
              "      <td>121.33866</td>\n",
              "    </tr>\n",
              "  </tbody>\n",
              "</table>\n",
              "</div>\n",
              "      <button class=\"colab-df-convert\" onclick=\"convertToInteractive('df-cbf390d6-a977-4834-a043-518fc95b8cbf')\"\n",
              "              title=\"Convert this dataframe to an interactive table.\"\n",
              "              style=\"display:none;\">\n",
              "        \n",
              "  <svg xmlns=\"http://www.w3.org/2000/svg\" height=\"24px\"viewBox=\"0 0 24 24\"\n",
              "       width=\"24px\">\n",
              "    <path d=\"M0 0h24v24H0V0z\" fill=\"none\"/>\n",
              "    <path d=\"M18.56 5.44l.94 2.06.94-2.06 2.06-.94-2.06-.94-.94-2.06-.94 2.06-2.06.94zm-11 1L8.5 8.5l.94-2.06 2.06-.94-2.06-.94L8.5 2.5l-.94 2.06-2.06.94zm10 10l.94 2.06.94-2.06 2.06-.94-2.06-.94-.94-2.06-.94 2.06-2.06.94z\"/><path d=\"M17.41 7.96l-1.37-1.37c-.4-.4-.92-.59-1.43-.59-.52 0-1.04.2-1.43.59L10.3 9.45l-7.72 7.72c-.78.78-.78 2.05 0 2.83L4 21.41c.39.39.9.59 1.41.59.51 0 1.02-.2 1.41-.59l7.78-7.78 2.81-2.81c.8-.78.8-2.07 0-2.86zM5.41 20L4 18.59l7.72-7.72 1.47 1.35L5.41 20z\"/>\n",
              "  </svg>\n",
              "      </button>\n",
              "      \n",
              "  <style>\n",
              "    .colab-df-container {\n",
              "      display:flex;\n",
              "      flex-wrap:wrap;\n",
              "      gap: 12px;\n",
              "    }\n",
              "\n",
              "    .colab-df-convert {\n",
              "      background-color: #E8F0FE;\n",
              "      border: none;\n",
              "      border-radius: 50%;\n",
              "      cursor: pointer;\n",
              "      display: none;\n",
              "      fill: #1967D2;\n",
              "      height: 32px;\n",
              "      padding: 0 0 0 0;\n",
              "      width: 32px;\n",
              "    }\n",
              "\n",
              "    .colab-df-convert:hover {\n",
              "      background-color: #E2EBFA;\n",
              "      box-shadow: 0px 1px 2px rgba(60, 64, 67, 0.3), 0px 1px 3px 1px rgba(60, 64, 67, 0.15);\n",
              "      fill: #174EA6;\n",
              "    }\n",
              "\n",
              "    [theme=dark] .colab-df-convert {\n",
              "      background-color: #3B4455;\n",
              "      fill: #D2E3FC;\n",
              "    }\n",
              "\n",
              "    [theme=dark] .colab-df-convert:hover {\n",
              "      background-color: #434B5C;\n",
              "      box-shadow: 0px 1px 3px 1px rgba(0, 0, 0, 0.15);\n",
              "      filter: drop-shadow(0px 1px 2px rgba(0, 0, 0, 0.3));\n",
              "      fill: #FFFFFF;\n",
              "    }\n",
              "  </style>\n",
              "\n",
              "      <script>\n",
              "        const buttonEl =\n",
              "          document.querySelector('#df-cbf390d6-a977-4834-a043-518fc95b8cbf button.colab-df-convert');\n",
              "        buttonEl.style.display =\n",
              "          google.colab.kernel.accessAllowed ? 'block' : 'none';\n",
              "\n",
              "        async function convertToInteractive(key) {\n",
              "          const element = document.querySelector('#df-cbf390d6-a977-4834-a043-518fc95b8cbf');\n",
              "          const dataTable =\n",
              "            await google.colab.kernel.invokeFunction('convertToInteractive',\n",
              "                                                     [key], {});\n",
              "          if (!dataTable) return;\n",
              "\n",
              "          const docLinkHtml = 'Like what you see? Visit the ' +\n",
              "            '<a target=\"_blank\" href=https://colab.research.google.com/notebooks/data_table.ipynb>data table notebook</a>'\n",
              "            + ' to learn more about interactive tables.';\n",
              "          element.innerHTML = '';\n",
              "          dataTable['output_type'] = 'display_data';\n",
              "          await google.colab.output.renderOutput(dataTable, element);\n",
              "          const docLink = document.createElement('div');\n",
              "          docLink.innerHTML = docLinkHtml;\n",
              "          element.appendChild(docLink);\n",
              "        }\n",
              "      </script>\n",
              "    </div>\n",
              "  </div>\n",
              "  "
            ]
          },
          "metadata": {},
          "execution_count": 5
        }
      ]
    },
    {
      "cell_type": "code",
      "source": [
        "import matplotlib.pyplot as plt\n",
        "bitcoin_prices.plot(figsize=(10, 7))\n",
        "plt.ylabel(\"BTC Price\")\n",
        "plt.title(\"Price of Bitcoin from 1 Oct 2013 to 18 May 2021\", fontsize=16)\n",
        "plt.grid()\n",
        "plt.legend(fontsize=14);"
      ],
      "metadata": {
        "colab": {
          "base_uri": "https://localhost:8080/",
          "height": 460
        },
        "id": "d9IPpzFOdbyB",
        "outputId": "5b85e389-913e-461f-99fb-6fa6eb9c789e"
      },
      "execution_count": 7,
      "outputs": [
        {
          "output_type": "display_data",
          "data": {
            "text/plain": [
              "<Figure size 720x504 with 1 Axes>"
            ],
            "image/png": "[encoded data removed]"
          },
          "metadata": {
            "needs_background": "light"
          }
        }
      ]
    },
    {
      "cell_type": "markdown",
      "source": [
        "### Creating windowed data"
      ],
      "metadata": {
        "id": "tUjMsi0UgUAk"
      }
    },
    {
      "cell_type": "code",
      "source": [
        "WINDOW = 7\n",
        "HORIZON = 1"
      ],
      "metadata": {
        "id": "2CuUkvAzfgjG"
      },
      "execution_count": 12,
      "outputs": []
    },
    {
      "cell_type": "code",
      "source": [
        "def get_labelled_windows(x, horizon=1):\n",
        "  return x[:, :-horizon], x[:, -horizon:]\n",
        "\n",
        "test_window, test_label = get_labelled_windows(tf.expand_dims(tf.range(8)+1, axis=0), horizon=HORIZON)\n",
        "print(f\"Window: {tf.squeeze(test_window).numpy()} -> Label: {tf.squeeze(test_label).numpy()}\")"
      ],
      "metadata": {
        "id": "0P3zYglagR_8"
      },
      "execution_count": null,
      "outputs": []
    },
    {
      "cell_type": "markdown",
      "source": [
        "### Create function to view NumPy array as windows"
      ],
      "metadata": {
        "id": "CT7W5-T9hO5M"
      }
    },
    {
      "cell_type": "code",
      "source": [
        "def make_windows(x, window_size=7, horizon=1):\n",
        "  window_step = np.expand_dims(np.arange(window_size+horizon), axis=0)\n",
        "  window_indexes = window_step + np.expand_dims(np.arange(len(x)-(window_size+horizon-1)), axis=0).T # create 2D array of windows of size window_size\n",
        "  windowed_array = x[window_indexes]\n",
        "  windows, labels = get_labelled_windows(windowed_array, horizon=horizon)\n",
        "\n",
        "  return windows, labels\n",
        "\n",
        "prices = bitcoin_prices[\"Price\"].to_numpy()\n",
        "timesteps = bitcoin_prices.index.to_numpy()\n",
        "full_windows, full_labels = make_windows(prices, window_size=WINDOW, horizon=HORIZON)\n",
        "len(full_windows), len(full_labels)"
      ],
      "metadata": {
        "colab": {
          "base_uri": "https://localhost:8080/"
        },
        "id": "iYQenBZjhDet",
        "outputId": "bcd7fcf3-d0a3-46fa-a170-044e3b7dab89"
      },
      "execution_count": 17,
      "outputs": [
        {
          "output_type": "execute_result",
          "data": {
            "text/plain": [
              "(2780, 2780)"
            ]
          },
          "metadata": {},
          "execution_count": 17
        }
      ]
    },
    {
      "cell_type": "code",
      "source": [
        "split_size = int(0.8 * len(prices)) # 80% train, 20% test\n",
        "\n",
        "X_train, y_train = timesteps[:split_size], prices[:split_size]\n",
        "\n",
        "X_test, y_test = timesteps[split_size:], prices[split_size:]"
      ],
      "metadata": {
        "id": "WZgGUcLzjKeM"
      },
      "execution_count": 29,
      "outputs": []
    },
    {
      "cell_type": "code",
      "source": [
        "# see 3 windows\n",
        "for i in range(3):\n",
        "  print(f\"Window: {full_windows[i]} -> Label: {full_labels[i]}\")"
      ],
      "metadata": {
        "colab": {
          "base_uri": "https://localhost:8080/"
        },
        "id": "AeGOMfRths2Y",
        "outputId": "8e500a25-5d6b-4d9f-830c-6a53e83c19e9"
      },
      "execution_count": 19,
      "outputs": [
        {
          "output_type": "stream",
          "name": "stdout",
          "text": [
            "Window: [123.65499 125.455   108.58483 118.67466 121.33866 120.65533 121.795  ] -> Label: [123.033]\n",
            "Window: [125.455   108.58483 118.67466 121.33866 120.65533 121.795   123.033  ] -> Label: [124.049]\n",
            "Window: [108.58483 118.67466 121.33866 120.65533 121.795   123.033   124.049  ] -> Label: [125.96116]\n"
          ]
        }
      ]
    },
    {
      "cell_type": "markdown",
      "source": [
        "### Function to divide dataset into train and test data"
      ],
      "metadata": {
        "id": "7jomysPQh45d"
      }
    },
    {
      "cell_type": "code",
      "source": [
        "def make_train_test_splits(windows, labels, test_split=0.2):\n",
        "  split_size = int(len(windows) * (1-test_split)) # this will default to 80% train/20% test\n",
        "  train_windows = windows[:split_size]\n",
        "  train_labels = labels[:split_size]\n",
        "  test_windows = windows[split_size:]\n",
        "  test_labels = labels[split_size:]\n",
        "  return train_windows, test_windows, train_labels, test_labels\n",
        "\n",
        "train_windows, test_windows, train_labels, test_labels = make_train_test_splits(full_windows, full_labels)\n",
        "len(train_windows), len(test_windows), len(train_labels), len(test_labels)"
      ],
      "metadata": {
        "colab": {
          "base_uri": "https://localhost:8080/"
        },
        "id": "xqdkXZGpf5-2",
        "outputId": "b7ac6b31-26cd-48c4-9aa8-cc0998fe9307"
      },
      "execution_count": 20,
      "outputs": [
        {
          "output_type": "execute_result",
          "data": {
            "text/plain": [
              "(2224, 556, 2224, 556)"
            ]
          },
          "metadata": {},
          "execution_count": 20
        }
      ]
    },
    {
      "cell_type": "markdown",
      "source": [
        "## Create and train model"
      ],
      "metadata": {
        "id": "PTkXTr13ibnM"
      }
    },
    {
      "cell_type": "code",
      "source": [
        "def create_model_checkpoint(model_name, save_path=\"model_experiments\"):\n",
        "  return tf.keras.callbacks.ModelCheckpoint(filepath=os.path.join(save_path, model_name), \n",
        "                                            verbose=0, \n",
        "                                            save_best_only=True) # save only the best model to file\n",
        "tf.random.set_seed(42)\n",
        "\n",
        "model_1 = tf.keras.Sequential([\n",
        "  layers.Dense(128, activation=\"relu\"),\n",
        "  layers.Dense(HORIZON, activation=\"linear\") # linear activation is the same as having no activation                        \n",
        "], name=\"model_1_dense\") \n",
        "\n",
        "model_1.compile(loss=\"mae\",\n",
        "                optimizer=tf.keras.optimizers.Adam(),\n",
        "                metrics=[\"mae\"]) \n",
        "\n",
        "model_1.fit(x=train_windows, # train windows of 7 timesteps of Bitcoin prices\n",
        "            y=train_labels, # horizon value of 1 (using the previous 7 timesteps to predict next day)\n",
        "            epochs=100,\n",
        "            verbose=1,\n",
        "            batch_size=128,\n",
        "            validation_data=(test_windows, test_labels),\n",
        "            callbacks=[create_model_checkpoint(model_name=model_1.name)]) "
      ],
      "metadata": {
        "colab": {
          "base_uri": "https://localhost:8080/"
        },
        "id": "wkcqB-5SeLEn",
        "outputId": "812dfe5c-bd09-4996-f3d3-b71e1903942e"
      },
      "execution_count": 24,
      "outputs": [
        {
          "output_type": "stream",
          "name": "stdout",
          "text": [
            "Epoch 1/100\n",
            " 1/18 [>.............................] - ETA: 20s - loss: 2111.0571 - mae: 2111.0571INFO:tensorflow:Assets written to: model_experiments/model_1_dense/assets\n",
            "18/18 [==============================] - 2s 53ms/step - loss: 780.3469 - mae: 780.3469 - val_loss: 2279.5828 - val_mae: 2279.5828\n",
            "Epoch 2/100\n",
            " 1/18 [>.............................] - ETA: 0s - loss: 348.8778 - mae: 348.8778INFO:tensorflow:Assets written to: model_experiments/model_1_dense/assets\n",
            "18/18 [==============================] - 1s 35ms/step - loss: 247.6765 - mae: 247.6765 - val_loss: 1005.9864 - val_mae: 1005.9864\n",
            "Epoch 3/100\n",
            " 1/18 [>.............................] - ETA: 0s - loss: 134.4844 - mae: 134.4844INFO:tensorflow:Assets written to: model_experiments/model_1_dense/assets\n",
            "18/18 [==============================] - 1s 36ms/step - loss: 188.4107 - mae: 188.4107 - val_loss: 923.2859 - val_mae: 923.2859\n",
            "Epoch 4/100\n",
            " 1/18 [>.............................] - ETA: 0s - loss: 211.3675 - mae: 211.3675INFO:tensorflow:Assets written to: model_experiments/model_1_dense/assets\n",
            "18/18 [==============================] - 1s 32ms/step - loss: 169.4334 - mae: 169.4334 - val_loss: 900.5932 - val_mae: 900.5932\n",
            "Epoch 5/100\n",
            " 1/18 [>.............................] - ETA: 0s - loss: 155.7283 - mae: 155.7283INFO:tensorflow:Assets written to: model_experiments/model_1_dense/assets\n",
            "18/18 [==============================] - 1s 36ms/step - loss: 165.0900 - mae: 165.0900 - val_loss: 895.2405 - val_mae: 895.2405\n",
            "Epoch 6/100\n",
            " 1/18 [>.............................] - ETA: 0s - loss: 117.3697 - mae: 117.3697INFO:tensorflow:Assets written to: model_experiments/model_1_dense/assets\n",
            "18/18 [==============================] - 1s 33ms/step - loss: 158.5206 - mae: 158.5206 - val_loss: 855.1868 - val_mae: 855.1868\n",
            "Epoch 7/100\n",
            " 1/18 [>.............................] - ETA: 0s - loss: 180.3330 - mae: 180.3330INFO:tensorflow:Assets written to: model_experiments/model_1_dense/assets\n",
            "18/18 [==============================] - 1s 35ms/step - loss: 151.3568 - mae: 151.3568 - val_loss: 840.9290 - val_mae: 840.9290\n",
            "Epoch 8/100\n",
            " 1/18 [>.............................] - ETA: 0s - loss: 121.1151 - mae: 121.1151INFO:tensorflow:Assets written to: model_experiments/model_1_dense/assets\n",
            "18/18 [==============================] - 1s 34ms/step - loss: 145.2560 - mae: 145.2560 - val_loss: 803.6005 - val_mae: 803.6005\n",
            "Epoch 9/100\n",
            " 1/18 [>.............................] - ETA: 0s - loss: 126.2221 - mae: 126.2221INFO:tensorflow:Assets written to: model_experiments/model_1_dense/assets\n",
            "18/18 [==============================] - 1s 34ms/step - loss: 144.3546 - mae: 144.3546 - val_loss: 799.5592 - val_mae: 799.5592\n",
            "Epoch 10/100\n",
            " 1/18 [>.............................] - ETA: 0s - loss: 148.4518 - mae: 148.4518INFO:tensorflow:Assets written to: model_experiments/model_1_dense/assets\n",
            "18/18 [==============================] - 1s 32ms/step - loss: 141.2944 - mae: 141.2944 - val_loss: 763.5060 - val_mae: 763.5060\n",
            "Epoch 11/100\n",
            "18/18 [==============================] - 0s 4ms/step - loss: 135.6591 - mae: 135.6591 - val_loss: 771.3525 - val_mae: 771.3525\n",
            "Epoch 12/100\n",
            "18/18 [==============================] - 0s 4ms/step - loss: 134.1702 - mae: 134.1702 - val_loss: 782.8326 - val_mae: 782.8325\n",
            "Epoch 13/100\n",
            "18/18 [==============================] - 0s 4ms/step - loss: 134.6014 - mae: 134.6014 - val_loss: 784.4728 - val_mae: 784.4728\n",
            "Epoch 14/100\n",
            " 1/18 [>.............................] - ETA: 0s - loss: 136.5616 - mae: 136.5616INFO:tensorflow:Assets written to: model_experiments/model_1_dense/assets\n",
            "18/18 [==============================] - 1s 34ms/step - loss: 130.6125 - mae: 130.6125 - val_loss: 751.3470 - val_mae: 751.3470\n",
            "Epoch 15/100\n",
            " 1/18 [>.............................] - ETA: 0s - loss: 131.5395 - mae: 131.5395INFO:tensorflow:Assets written to: model_experiments/model_1_dense/assets\n",
            "18/18 [==============================] - 1s 53ms/step - loss: 128.8352 - mae: 128.8352 - val_loss: 696.5837 - val_mae: 696.5837\n",
            "Epoch 16/100\n",
            "18/18 [==============================] - 0s 6ms/step - loss: 124.8667 - mae: 124.8667 - val_loss: 707.2988 - val_mae: 707.2988\n",
            "Epoch 17/100\n",
            "18/18 [==============================] - 0s 4ms/step - loss: 123.6096 - mae: 123.6096 - val_loss: 714.2291 - val_mae: 714.2291\n",
            "Epoch 18/100\n",
            " 1/18 [>.............................] - ETA: 0s - loss: 138.5527 - mae: 138.5527INFO:tensorflow:Assets written to: model_experiments/model_1_dense/assets\n",
            "18/18 [==============================] - 1s 34ms/step - loss: 122.3023 - mae: 122.3023 - val_loss: 669.1414 - val_mae: 669.1414\n",
            "Epoch 19/100\n",
            "18/18 [==============================] - 0s 5ms/step - loss: 121.4932 - mae: 121.4932 - val_loss: 721.5452 - val_mae: 721.5452\n",
            "Epoch 20/100\n",
            " 1/18 [>.............................] - ETA: 0s - loss: 135.4132 - mae: 135.4132INFO:tensorflow:Assets written to: model_experiments/model_1_dense/assets\n",
            "18/18 [==============================] - 1s 36ms/step - loss: 119.2384 - mae: 119.2384 - val_loss: 658.0786 - val_mae: 658.0786\n",
            "Epoch 21/100\n",
            " 1/18 [>.............................] - ETA: 0s - loss: 128.8736 - mae: 128.8736INFO:tensorflow:Assets written to: model_experiments/model_1_dense/assets\n",
            "18/18 [==============================] - 1s 33ms/step - loss: 121.5293 - mae: 121.5293 - val_loss: 638.3386 - val_mae: 638.3386\n",
            "Epoch 22/100\n",
            "18/18 [==============================] - 0s 5ms/step - loss: 119.3422 - mae: 119.3422 - val_loss: 678.8881 - val_mae: 678.8881\n",
            "Epoch 23/100\n",
            "18/18 [==============================] - 0s 4ms/step - loss: 122.8203 - mae: 122.8203 - val_loss: 651.8512 - val_mae: 651.8512\n",
            "Epoch 24/100\n",
            " 1/18 [>.............................] - ETA: 0s - loss: 125.6553 - mae: 125.6553INFO:tensorflow:Assets written to: model_experiments/model_1_dense/assets\n",
            "18/18 [==============================] - 1s 35ms/step - loss: 117.0774 - mae: 117.0774 - val_loss: 623.5611 - val_mae: 623.5611\n",
            "Epoch 25/100\n",
            " 1/18 [>.............................] - ETA: 0s - loss: 122.1502 - mae: 122.1502INFO:tensorflow:Assets written to: model_experiments/model_1_dense/assets\n",
            "18/18 [==============================] - 1s 35ms/step - loss: 115.1816 - mae: 115.1816 - val_loss: 618.5576 - val_mae: 618.5576\n",
            "Epoch 26/100\n",
            " 1/18 [>.............................] - ETA: 0s - loss: 109.7064 - mae: 109.7064INFO:tensorflow:Assets written to: model_experiments/model_1_dense/assets\n",
            "18/18 [==============================] - 1s 35ms/step - loss: 115.0673 - mae: 115.0673 - val_loss: 616.4918 - val_mae: 616.4918\n",
            "Epoch 27/100\n",
            "18/18 [==============================] - 0s 5ms/step - loss: 116.6431 - mae: 116.6431 - val_loss: 619.0472 - val_mae: 619.0472\n",
            "Epoch 28/100\n",
            " 1/18 [>.............................] - ETA: 0s - loss: 102.1523 - mae: 102.1523INFO:tensorflow:Assets written to: model_experiments/model_1_dense/assets\n",
            "18/18 [==============================] - 1s 34ms/step - loss: 114.0328 - mae: 114.0328 - val_loss: 610.3879 - val_mae: 610.3879\n",
            "Epoch 29/100\n",
            "18/18 [==============================] - 0s 4ms/step - loss: 113.4892 - mae: 113.4892 - val_loss: 617.2401 - val_mae: 617.2401\n",
            "Epoch 30/100\n",
            " 1/18 [>.............................] - ETA: 0s - loss: 124.6252 - mae: 124.6252INFO:tensorflow:Assets written to: model_experiments/model_1_dense/assets\n",
            "18/18 [==============================] - 1s 33ms/step - loss: 116.4094 - mae: 116.4094 - val_loss: 603.6490 - val_mae: 603.6490\n",
            "Epoch 31/100\n",
            "18/18 [==============================] - 0s 4ms/step - loss: 112.3454 - mae: 112.3454 - val_loss: 623.4434 - val_mae: 623.4434\n",
            "Epoch 32/100\n",
            " 1/18 [>.............................] - ETA: 0s - loss: 110.3431 - mae: 110.3431INFO:tensorflow:Assets written to: model_experiments/model_1_dense/assets\n",
            "18/18 [==============================] - 1s 34ms/step - loss: 113.2056 - mae: 113.2056 - val_loss: 600.0261 - val_mae: 600.0261\n",
            "Epoch 33/100\n",
            "18/18 [==============================] - 0s 4ms/step - loss: 112.9529 - mae: 112.9529 - val_loss: 653.0604 - val_mae: 653.0604\n",
            "Epoch 34/100\n",
            " 1/18 [>.............................] - ETA: 0s - loss: 140.4313 - mae: 140.4313INFO:tensorflow:Assets written to: model_experiments/model_1_dense/assets\n",
            "18/18 [==============================] - 1s 34ms/step - loss: 112.1157 - mae: 112.1157 - val_loss: 594.7913 - val_mae: 594.7913\n",
            "Epoch 35/100\n",
            " 1/18 [>.............................] - ETA: 0s - loss: 100.0623 - mae: 100.0623INFO:tensorflow:Assets written to: model_experiments/model_1_dense/assets\n",
            "18/18 [==============================] - 1s 35ms/step - loss: 110.7447 - mae: 110.7447 - val_loss: 592.7401 - val_mae: 592.7401\n",
            "Epoch 36/100\n",
            " 1/18 [>.............................] - ETA: 0s - loss: 149.3917 - mae: 149.3917INFO:tensorflow:Assets written to: model_experiments/model_1_dense/assets\n",
            "18/18 [==============================] - 1s 55ms/step - loss: 116.3301 - mae: 116.3301 - val_loss: 592.4697 - val_mae: 592.4697\n",
            "Epoch 37/100\n",
            "18/18 [==============================] - 0s 4ms/step - loss: 110.7676 - mae: 110.7676 - val_loss: 618.5350 - val_mae: 618.5350\n",
            "Epoch 38/100\n",
            "18/18 [==============================] - 0s 4ms/step - loss: 112.5935 - mae: 112.5935 - val_loss: 613.9557 - val_mae: 613.9557\n",
            "Epoch 39/100\n",
            " 1/18 [>.............................] - ETA: 0s - loss: 128.7077 - mae: 128.7077INFO:tensorflow:Assets written to: model_experiments/model_1_dense/assets\n",
            "18/18 [==============================] - 1s 77ms/step - loss: 110.1321 - mae: 110.1321 - val_loss: 586.6888 - val_mae: 586.6888\n",
            "Epoch 40/100\n",
            "18/18 [==============================] - 0s 4ms/step - loss: 109.4753 - mae: 109.4753 - val_loss: 593.9153 - val_mae: 593.9153\n",
            "Epoch 41/100\n",
            " 1/18 [>.............................] - ETA: 0s - loss: 105.0374 - mae: 105.0374INFO:tensorflow:Assets written to: model_experiments/model_1_dense/assets\n",
            "18/18 [==============================] - 1s 34ms/step - loss: 110.1777 - mae: 110.1777 - val_loss: 586.4465 - val_mae: 586.4465\n",
            "Epoch 42/100\n",
            "18/18 [==============================] - 0s 5ms/step - loss: 111.5192 - mae: 111.5192 - val_loss: 649.3650 - val_mae: 649.3650\n",
            "Epoch 43/100\n",
            "18/18 [==============================] - 0s 5ms/step - loss: 115.8939 - mae: 115.8939 - val_loss: 686.8293 - val_mae: 686.8293\n",
            "Epoch 44/100\n",
            "18/18 [==============================] - 0s 4ms/step - loss: 123.0945 - mae: 123.0945 - val_loss: 661.1304 - val_mae: 661.1304\n",
            "Epoch 45/100\n",
            "18/18 [==============================] - 0s 4ms/step - loss: 113.8169 - mae: 113.8169 - val_loss: 626.8177 - val_mae: 626.8177\n",
            "Epoch 46/100\n",
            "18/18 [==============================] - 0s 4ms/step - loss: 114.0971 - mae: 114.0971 - val_loss: 588.7769 - val_mae: 588.7769\n",
            "Epoch 47/100\n",
            "18/18 [==============================] - 0s 4ms/step - loss: 108.9936 - mae: 108.9936 - val_loss: 636.0583 - val_mae: 636.0583\n",
            "Epoch 48/100\n",
            "18/18 [==============================] - 0s 4ms/step - loss: 109.2967 - mae: 109.2967 - val_loss: 604.1586 - val_mae: 604.1586\n",
            "Epoch 49/100\n",
            "18/18 [==============================] - 0s 5ms/step - loss: 111.7787 - mae: 111.7787 - val_loss: 591.5096 - val_mae: 591.5096\n",
            "Epoch 50/100\n",
            "18/18 [==============================] - 0s 4ms/step - loss: 111.7319 - mae: 111.7319 - val_loss: 636.4677 - val_mae: 636.4677\n",
            "Epoch 51/100\n",
            "18/18 [==============================] - 0s 4ms/step - loss: 110.7498 - mae: 110.7498 - val_loss: 589.2878 - val_mae: 589.2878\n",
            "Epoch 52/100\n",
            "18/18 [==============================] - 0s 4ms/step - loss: 111.5193 - mae: 111.5193 - val_loss: 609.5289 - val_mae: 609.5289\n",
            "Epoch 53/100\n",
            " 1/18 [>.............................] - ETA: 0s - loss: 63.2880 - mae: 63.2880INFO:tensorflow:Assets written to: model_experiments/model_1_dense/assets\n",
            "18/18 [==============================] - 1s 36ms/step - loss: 113.9868 - mae: 113.9868 - val_loss: 584.7471 - val_mae: 584.7471\n",
            "Epoch 54/100\n",
            " 1/18 [>.............................] - ETA: 0s - loss: 98.4018 - mae: 98.4018INFO:tensorflow:Assets written to: model_experiments/model_1_dense/assets\n",
            "18/18 [==============================] - 1s 35ms/step - loss: 110.1075 - mae: 110.1075 - val_loss: 578.7416 - val_mae: 578.7416\n",
            "Epoch 55/100\n",
            "18/18 [==============================] - 0s 5ms/step - loss: 110.6423 - mae: 110.6423 - val_loss: 581.5333 - val_mae: 581.5333\n",
            "Epoch 56/100\n",
            "18/18 [==============================] - 0s 4ms/step - loss: 107.6537 - mae: 107.6537 - val_loss: 759.0189 - val_mae: 759.0189\n",
            "Epoch 57/100\n",
            "18/18 [==============================] - 0s 5ms/step - loss: 119.2012 - mae: 119.2012 - val_loss: 603.5953 - val_mae: 603.5953\n",
            "Epoch 58/100\n",
            "18/18 [==============================] - 0s 4ms/step - loss: 116.4417 - mae: 116.4417 - val_loss: 583.7296 - val_mae: 583.7296\n",
            "Epoch 59/100\n",
            "18/18 [==============================] - 0s 4ms/step - loss: 109.9014 - mae: 109.9014 - val_loss: 592.8416 - val_mae: 592.8416\n",
            "Epoch 60/100\n",
            "18/18 [==============================] - 0s 4ms/step - loss: 107.7859 - mae: 107.7859 - val_loss: 593.4969 - val_mae: 593.4969\n",
            "Epoch 61/100\n",
            " 1/18 [>.............................] - ETA: 0s - loss: 130.6454 - mae: 130.6454INFO:tensorflow:Assets written to: model_experiments/model_1_dense/assets\n",
            "18/18 [==============================] - 1s 34ms/step - loss: 107.6960 - mae: 107.6960 - val_loss: 575.5123 - val_mae: 575.5123\n",
            "Epoch 62/100\n",
            "18/18 [==============================] - 0s 4ms/step - loss: 107.1257 - mae: 107.1257 - val_loss: 580.2645 - val_mae: 580.2645\n",
            "Epoch 63/100\n",
            "18/18 [==============================] - 0s 4ms/step - loss: 111.8451 - mae: 111.8451 - val_loss: 654.6143 - val_mae: 654.6143\n",
            "Epoch 64/100\n",
            "18/18 [==============================] - 0s 4ms/step - loss: 110.3121 - mae: 110.3121 - val_loss: 610.7810 - val_mae: 610.7810\n",
            "Epoch 65/100\n",
            " 1/18 [>.............................] - ETA: 0s - loss: 131.5208 - mae: 131.5208INFO:tensorflow:Assets written to: model_experiments/model_1_dense/assets\n",
            "18/18 [==============================] - 1s 38ms/step - loss: 109.7098 - mae: 109.7098 - val_loss: 573.9960 - val_mae: 573.9960\n",
            "Epoch 66/100\n",
            " 1/18 [>.............................] - ETA: 0s - loss: 112.4866 - mae: 112.4866INFO:tensorflow:Assets written to: model_experiments/model_1_dense/assets\n",
            "18/18 [==============================] - 1s 32ms/step - loss: 106.8139 - mae: 106.8139 - val_loss: 572.9989 - val_mae: 572.9989\n",
            "Epoch 67/100\n",
            "18/18 [==============================] - 0s 4ms/step - loss: 106.1394 - mae: 106.1394 - val_loss: 602.1524 - val_mae: 602.1524\n",
            "Epoch 68/100\n",
            "18/18 [==============================] - 0s 4ms/step - loss: 112.9245 - mae: 112.9245 - val_loss: 687.6375 - val_mae: 687.6375\n",
            "Epoch 69/100\n",
            "18/18 [==============================] - 0s 5ms/step - loss: 126.9916 - mae: 126.9916 - val_loss: 664.9473 - val_mae: 664.9473\n",
            "Epoch 70/100\n",
            "18/18 [==============================] - 0s 4ms/step - loss: 124.8734 - mae: 124.8734 - val_loss: 619.6686 - val_mae: 619.6686\n",
            "Epoch 71/100\n",
            "18/18 [==============================] - 0s 5ms/step - loss: 109.8522 - mae: 109.8522 - val_loss: 582.3637 - val_mae: 582.3637\n",
            "Epoch 72/100\n",
            "18/18 [==============================] - 0s 4ms/step - loss: 107.6717 - mae: 107.6717 - val_loss: 573.4947 - val_mae: 573.4947\n",
            "Epoch 73/100\n",
            "18/18 [==============================] - 0s 5ms/step - loss: 109.6036 - mae: 109.6036 - val_loss: 583.9045 - val_mae: 583.9045\n",
            "Epoch 74/100\n",
            " 1/18 [>.............................] - ETA: 0s - loss: 165.4990 - mae: 165.4990INFO:tensorflow:Assets written to: model_experiments/model_1_dense/assets\n",
            "18/18 [==============================] - 1s 33ms/step - loss: 107.7049 - mae: 107.7049 - val_loss: 572.9933 - val_mae: 572.9933\n",
            "Epoch 75/100\n",
            "18/18 [==============================] - 0s 5ms/step - loss: 108.1179 - mae: 108.1179 - val_loss: 583.9372 - val_mae: 583.9372\n",
            "Epoch 76/100\n",
            "18/18 [==============================] - 0s 4ms/step - loss: 109.5447 - mae: 109.5447 - val_loss: 592.8235 - val_mae: 592.8235\n",
            "Epoch 77/100\n",
            "18/18 [==============================] - 0s 6ms/step - loss: 108.3639 - mae: 108.3639 - val_loss: 575.4260 - val_mae: 575.4260\n",
            "Epoch 78/100\n",
            "18/18 [==============================] - 0s 5ms/step - loss: 108.0055 - mae: 108.0055 - val_loss: 574.3941 - val_mae: 574.3941\n",
            "Epoch 79/100\n",
            "18/18 [==============================] - 0s 3ms/step - loss: 107.3223 - mae: 107.3223 - val_loss: 597.2478 - val_mae: 597.2478\n",
            "Epoch 80/100\n",
            "18/18 [==============================] - 0s 4ms/step - loss: 108.1452 - mae: 108.1452 - val_loss: 586.6866 - val_mae: 586.6866\n",
            "Epoch 81/100\n",
            "18/18 [==============================] - 0s 4ms/step - loss: 106.1153 - mae: 106.1153 - val_loss: 575.1765 - val_mae: 575.1765\n",
            "Epoch 82/100\n",
            "18/18 [==============================] - 0s 5ms/step - loss: 116.6344 - mae: 116.6344 - val_loss: 575.4340 - val_mae: 575.4340\n",
            "Epoch 83/100\n",
            "18/18 [==============================] - 0s 5ms/step - loss: 110.8731 - mae: 110.8731 - val_loss: 654.5366 - val_mae: 654.5366\n",
            "Epoch 84/100\n",
            " 1/18 [>.............................] - ETA: 0s - loss: 118.1785 - mae: 118.1785INFO:tensorflow:Assets written to: model_experiments/model_1_dense/assets\n",
            "18/18 [==============================] - 1s 33ms/step - loss: 111.9106 - mae: 111.9106 - val_loss: 572.3373 - val_mae: 572.3373\n",
            "Epoch 85/100\n",
            "18/18 [==============================] - 0s 4ms/step - loss: 106.6154 - mae: 106.6154 - val_loss: 574.2833 - val_mae: 574.2833\n",
            "Epoch 86/100\n",
            "18/18 [==============================] - 0s 5ms/step - loss: 108.4299 - mae: 108.4299 - val_loss: 583.3530 - val_mae: 583.3530\n",
            "Epoch 87/100\n",
            "18/18 [==============================] - 0s 5ms/step - loss: 105.7481 - mae: 105.7481 - val_loss: 593.0121 - val_mae: 593.0121\n",
            "Epoch 88/100\n",
            " 1/18 [>.............................] - ETA: 0s - loss: 133.8443 - mae: 133.8443INFO:tensorflow:Assets written to: model_experiments/model_1_dense/assets\n",
            "18/18 [==============================] - 1s 53ms/step - loss: 107.2604 - mae: 107.2604 - val_loss: 571.7658 - val_mae: 571.7658\n",
            "Epoch 89/100\n",
            "12/18 [===================>..........] - ETA: 0s - loss: 99.5185 - mae: 99.5185  INFO:tensorflow:Assets written to: model_experiments/model_1_dense/assets\n",
            "18/18 [==============================] - 1s 77ms/step - loss: 106.7823 - mae: 106.7823 - val_loss: 568.6370 - val_mae: 568.6370\n",
            "Epoch 90/100\n",
            "18/18 [==============================] - 0s 11ms/step - loss: 105.8682 - mae: 105.8682 - val_loss: 602.9690 - val_mae: 602.9690\n",
            "Epoch 91/100\n",
            "18/18 [==============================] - 0s 9ms/step - loss: 110.6365 - mae: 110.6365 - val_loss: 605.6947 - val_mae: 605.6947\n",
            "Epoch 92/100\n",
            "18/18 [==============================] - 0s 9ms/step - loss: 109.4668 - mae: 109.4668 - val_loss: 572.4370 - val_mae: 572.4370\n",
            "Epoch 93/100\n",
            "18/18 [==============================] - 0s 12ms/step - loss: 113.0063 - mae: 113.0063 - val_loss: 617.3001 - val_mae: 617.3001\n",
            "Epoch 94/100\n",
            "18/18 [==============================] - 0s 8ms/step - loss: 112.4903 - mae: 112.4903 - val_loss: 599.9803 - val_mae: 599.9803\n",
            "Epoch 95/100\n",
            "18/18 [==============================] - 0s 9ms/step - loss: 106.0053 - mae: 106.0053 - val_loss: 570.6210 - val_mae: 570.6210\n",
            "Epoch 96/100\n",
            "18/18 [==============================] - 0s 8ms/step - loss: 109.5910 - mae: 109.5910 - val_loss: 676.3395 - val_mae: 676.3395\n",
            "Epoch 97/100\n",
            "18/18 [==============================] - 0s 7ms/step - loss: 110.2213 - mae: 110.2213 - val_loss: 574.2988 - val_mae: 574.2988\n",
            "Epoch 98/100\n",
            "18/18 [==============================] - 0s 12ms/step - loss: 106.7290 - mae: 106.7290 - val_loss: 576.7734 - val_mae: 576.7734\n",
            "Epoch 99/100\n",
            "10/18 [===============>..............] - ETA: 0s - loss: 102.4659 - mae: 102.4659INFO:tensorflow:Assets written to: model_experiments/model_1_dense/assets\n",
            "18/18 [==============================] - 1s 64ms/step - loss: 106.9889 - mae: 106.9889 - val_loss: 568.5499 - val_mae: 568.5499\n",
            "Epoch 100/100\n",
            "18/18 [==============================] - 0s 8ms/step - loss: 117.7622 - mae: 117.7622 - val_loss: 662.5322 - val_mae: 662.5322\n"
          ]
        },
        {
          "output_type": "execute_result",
          "data": {
            "text/plain": [
              "<keras.callbacks.History at 0x7f53a9995d50>"
            ]
          },
          "metadata": {},
          "execution_count": 24
        }
      ]
    },
    {
      "cell_type": "markdown",
      "source": [
        "## Appreciating model"
      ],
      "metadata": {
        "id": "UP0frFkliu11"
      }
    },
    {
      "cell_type": "code",
      "source": [
        "model_1.evaluate(test_windows, test_labels)"
      ],
      "metadata": {
        "colab": {
          "base_uri": "https://localhost:8080/"
        },
        "id": "j3EBnLsmfjGB",
        "outputId": "c4c747ec-d69c-47cd-bcb8-9301e1cd95bc"
      },
      "execution_count": 25,
      "outputs": [
        {
          "output_type": "stream",
          "name": "stdout",
          "text": [
            "18/18 [==============================] - 0s 2ms/step - loss: 662.5322 - mae: 662.5322\n"
          ]
        },
        {
          "output_type": "execute_result",
          "data": {
            "text/plain": [
              "[662.5322265625, 662.5322265625]"
            ]
          },
          "metadata": {},
          "execution_count": 25
        }
      ]
    },
    {
      "cell_type": "code",
      "source": [
        "model_1 = tf.keras.models.load_model(\"model_experiments/model_1_dense\")\n",
        "model_1.evaluate(test_windows, test_labels)"
      ],
      "metadata": {
        "colab": {
          "base_uri": "https://localhost:8080/"
        },
        "id": "efN32Y8BiwZr",
        "outputId": "b7ac657a-b845-4f8f-8a93-ebd7bee73fe9"
      },
      "execution_count": 26,
      "outputs": [
        {
          "output_type": "stream",
          "name": "stdout",
          "text": [
            "18/18 [==============================] - 0s 4ms/step - loss: 568.5499 - mae: 568.5499\n"
          ]
        },
        {
          "output_type": "execute_result",
          "data": {
            "text/plain": [
              "[568.5498657226562, 568.5498657226562]"
            ]
          },
          "metadata": {},
          "execution_count": 26
        }
      ]
    },
    {
      "cell_type": "code",
      "source": [
        "def make_preds(model, input_data):\n",
        "  forecast = model.predict(input_data)\n",
        "  return tf.squeeze(forecast) # return 1D array of predictions\n",
        "  \n",
        "model_1_preds = make_preds(model_1, test_windows)\n",
        "len(model_1_preds), model_1_preds[:10]"
      ],
      "metadata": {
        "colab": {
          "base_uri": "https://localhost:8080/"
        },
        "id": "HTyau0FQi1qU",
        "outputId": "146d9505-c14c-4e9b-fcc7-7a1141f005b4"
      },
      "execution_count": 27,
      "outputs": [
        {
          "output_type": "execute_result",
          "data": {
            "text/plain": [
              "(556, <tf.Tensor: shape=(10,), dtype=float32, numpy=\n",
              " array([8874.493, 8789.944, 9040.986, 8804.829, 8741.21 , 8749.835,\n",
              "        8705.865, 8513.171, 8478.415, 8536.302], dtype=float32)>)"
            ]
          },
          "metadata": {},
          "execution_count": 27
        }
      ]
    },
    {
      "cell_type": "code",
      "source": [
        "import matplotlib.pyplot as plt\n",
        "def plot_time_series(timesteps, values, format='.', start=0, end=None, label=None):\n",
        "  # Plot the series\n",
        "  plt.plot(timesteps[start:end], values[start:end], format, label=label)\n",
        "  plt.xlabel(\"Time\")\n",
        "  plt.ylabel(\"BTC Price\")\n",
        "  if label:\n",
        "    plt.legend(fontsize=14) # make label bigger\n",
        "  plt.grid(True)\n",
        "\n",
        "offset = 300\n",
        "plt.figure(figsize=(10, 7))\n",
        "# Account for the test_window offset and index into test_labels to ensure correct plotting\n",
        "plot_time_series(timesteps=X_test[-len(test_windows):], values=test_labels[:, 0], start=offset, label=\"Test_data\")\n",
        "plot_time_series(timesteps=X_test[-len(test_windows):], values=model_1_preds, start=offset, format=\"-\", label=\"model_1_preds\")"
      ],
      "metadata": {
        "colab": {
          "base_uri": "https://localhost:8080/",
          "height": 442
        },
        "id": "XvS4_HGqi5P-",
        "outputId": "580417fc-67bd-42c1-d3b0-2903f064bff5"
      },
      "execution_count": 30,
      "outputs": [
        {
          "output_type": "display_data",
          "data": {
            "text/plain": [
              "<Figure size 720x504 with 1 Axes>"
            ],
            "image/png": "[encoded data removed]"
          },
          "metadata": {
            "needs_background": "light"
          }
        }
      ]
    },
    {
      "cell_type": "markdown",
      "source": [
        "# Висновок\n",
        "В ході виконання лабораторної роботи було розглянуто модель <b>model_1_dense_w7_h1</b> на історичних даних ціни біткоіну. Моделювання відбувалось з використанням часових рядів. "
      ],
      "metadata": {
        "id": "qBBjndiwjXr1"
      }
    }
  ]
}