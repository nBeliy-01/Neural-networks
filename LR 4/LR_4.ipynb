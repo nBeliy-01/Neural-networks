{
  "cells": [
    {
      "cell_type": "markdown",
      "metadata": {
        "id": "view-in-github",
        "colab_type": "text"
      },
      "source": [
        "<a href=\"https://colab.research.google.com/github/nBeliy-01/Neural-networks/blob/master/LR%204/LR_4.ipynb\" target=\"_parent\"><img src=\"https://colab.research.google.com/assets/colab-badge.svg\" alt=\"Open In Colab\"/></a>"
      ]
    },
    {
      "cell_type": "markdown",
      "metadata": {
        "id": "ag-SRiPPYelt"
      },
      "source": [
        "<center><h1>Лабораторна робота №4</h1>\n",
        "    <h3>Студетна групи АнД - 31</h3>\n",
        "    <h3>Білухи Назара Романовича</h3>\n",
        "    <h3>Варіант 1</h3>"
      ]
    },
    {
      "cell_type": "code",
      "execution_count": null,
      "metadata": {
        "id": "SlI4Bs8zYel5"
      },
      "outputs": [],
      "source": [
        "import numpy as np\n",
        "import tensorflow as tf\n",
        "import pandas as pd\n",
        "import matplotlib.pyplot as plt\n",
        "\n",
        "from sklearn.metrics import confusion_matrix\n",
        "from sklearn.metrics import plot_confusion_matrix\n",
        "from tensorflow.keras.datasets import fashion_mnist"
      ]
    },
    {
      "cell_type": "code",
      "execution_count": null,
      "metadata": {
        "id": "tWiw94MpYel7"
      },
      "outputs": [],
      "source": [
        "(train_data_set, train_labels_set), (test_data_set, test_labels_set) = fashion_mnist.load_data()"
      ]
    },
    {
      "cell_type": "code",
      "execution_count": null,
      "metadata": {
        "id": "5KgKo5oQYel8",
        "outputId": "406ac308-6abf-4602-fc55-a102a23c79d7"
      },
      "outputs": [
        {
          "name": "stdout",
          "output_type": "stream",
          "text": [
            "Train tuple data shape:  (60000, 28, 28)\n",
            "Train tuple labels shape:  (60000,)\n",
            "Test  tuple shape:  (10000, 28, 28)\n",
            "Test tuple labels shape:  (10000,)\n"
          ]
        }
      ],
      "source": [
        "# Train shapes & test shapes\n",
        "print(\"Train tuple data shape: \", train_data_set.shape)\n",
        "print(\"Train tuple labels shape: \", train_labels_set.shape)\n",
        "print(\"Test  tuple shape: \", test_data_set.shape)\n",
        "print(\"Test tuple labels shape: \", test_labels_set.shape)"
      ]
    },
    {
      "cell_type": "code",
      "execution_count": null,
      "metadata": {
        "id": "EKrySyWqYel-",
        "outputId": "d7423284-903b-48d4-e653-5e8239462f54"
      },
      "outputs": [
        {
          "data": {
            "text/plain": [
              "<matplotlib.image.AxesImage at 0x1e69c8fdc18>"
            ]
          },
          "execution_count": 4,
          "metadata": {},
          "output_type": "execute_result"
        },
        {
          "data": {
            "image/png": "[encoded data removed]",
            "text/plain": [
              "<Figure size 432x288 with 1 Axes>"
            ]
          },
          "metadata": {
            "needs_background": "light"
          },
          "output_type": "display_data"
        }
      ],
      "source": [
        "# Train data\n",
        "plt.imshow(train_data_set[5])"
      ]
    },
    {
      "cell_type": "code",
      "execution_count": null,
      "metadata": {
        "id": "WqGL-JPHYemG",
        "outputId": "333d05b5-1326-4782-e602-cc8afaf8747e"
      },
      "outputs": [
        {
          "data": {
            "text/plain": [
              "<matplotlib.image.AxesImage at 0x1e69e9ffe48>"
            ]
          },
          "execution_count": 5,
          "metadata": {},
          "output_type": "execute_result"
        },
        {
          "data": {
            "image/png": "[encoded data removed]",
            "text/plain": [
              "<Figure size 432x288 with 1 Axes>"
            ]
          },
          "metadata": {
            "needs_background": "light"
          },
          "output_type": "display_data"
        }
      ],
      "source": [
        "# Test data\n",
        "plt.imshow(test_data_set[5])"
      ]
    },
    {
      "cell_type": "code",
      "execution_count": null,
      "metadata": {
        "id": "pAHIA60JYemH"
      },
      "outputs": [],
      "source": [
        "class_names = ['T-shirt/top', 'Trouser', 'Pullover', 'Dress', 'Coat', \n",
        "               'Sandal', 'Shirt', 'Sneaker', 'Bag', 'Ankle boot']\n",
        "chosen = np.array([0, 3, 7])"
      ]
    },
    {
      "cell_type": "code",
      "execution_count": null,
      "metadata": {
        "id": "R7TlO8iaYemI"
      },
      "outputs": [],
      "source": [
        "# train data & train labels\n",
        "train_data = train_data_set[np.argwhere((train_labels_set == 0)|(train_labels_set == 3)|(train_labels_set == 7))]\n",
        "train_data = np.reshape(train_data, (train_data.shape[0], train_data.shape[2], train_data.shape[3]))\n",
        "train_labels = train_labels_set[np.argwhere((train_labels_set == 0)|(train_labels_set == 3)|(train_labels_set == 7))]\n",
        "train_labels = np.reshape(train_labels, train_labels.shape[0])\n",
        "\n",
        "# test data & test labels\n",
        "test_data = test_data_set[np.argwhere((test_labels_set == 0)|(test_labels_set == 3)|(test_labels_set == 7))]\n",
        "test_data = np.reshape(test_data, (test_data.shape[0], test_data.shape[2], test_data.shape[3]))\n",
        "test_labels = test_labels_set[np.argwhere((test_labels_set == 0)|(test_labels_set == 3)|(test_labels_set == 7))]\n",
        "test_labels = np.reshape(test_labels, test_labels.shape[0])"
      ]
    },
    {
      "cell_type": "code",
      "execution_count": null,
      "metadata": {
        "id": "0f7u9lKvYemK",
        "outputId": "f16265b1-fc39-44e2-8b0a-a59a435cb71e"
      },
      "outputs": [
        {
          "data": {
            "image/png": "[encoded data removed]",
            "text/plain": [
              "<Figure size 504x504 with 4 Axes>"
            ]
          },
          "metadata": {
            "needs_background": "light"
          },
          "output_type": "display_data"
        }
      ],
      "source": [
        "import random\n",
        "plt.figure(figsize=(7, 7))\n",
        "for i in range(4):\n",
        "    ax = plt.subplot(2, 2, i + 1)\n",
        "    rand_index = random.choice(range(len(train_data)))\n",
        "    plt.imshow(train_data[rand_index], cmap=plt.cm.binary)\n",
        "    plt.title(class_names[train_labels[rand_index]])\n",
        "    plt.axis(False)"
      ]
    },
    {
      "cell_type": "code",
      "execution_count": null,
      "metadata": {
        "id": "xI9uuI_QYemL",
        "outputId": "5a738f54-f907-44ab-8f7f-7378af123f19"
      },
      "outputs": [
        {
          "name": "stdout",
          "output_type": "stream",
          "text": [
            "Epoch 1/10\n",
            "563/563 [==============================] - 3s 3ms/step - loss: 2.3459 - accuracy: 0.3274 - val_loss: 1.4808 - val_accuracy: 0.3333\n",
            "Epoch 2/10\n",
            "563/563 [==============================] - 2s 3ms/step - loss: 1.3047 - accuracy: 0.3334 - val_loss: 1.1960 - val_accuracy: 0.3333\n",
            "Epoch 3/10\n",
            "563/563 [==============================] - 2s 3ms/step - loss: 1.1581 - accuracy: 0.3326 - val_loss: 1.1342 - val_accuracy: 0.3333\n",
            "Epoch 4/10\n",
            "563/563 [==============================] - 2s 3ms/step - loss: 1.1237 - accuracy: 0.3392 - val_loss: 1.1164 - val_accuracy: 0.3333\n",
            "Epoch 5/10\n",
            "563/563 [==============================] - 2s 3ms/step - loss: 1.1122 - accuracy: 0.3320 - val_loss: 1.1088 - val_accuracy: 0.3333\n",
            "Epoch 6/10\n",
            "563/563 [==============================] - 2s 3ms/step - loss: 1.1068 - accuracy: 0.3331 - val_loss: 1.1055 - val_accuracy: 0.3333\n",
            "Epoch 7/10\n",
            "563/563 [==============================] - 2s 3ms/step - loss: 1.1020 - accuracy: 0.3349 - val_loss: 1.0853 - val_accuracy: 0.3537\n",
            "Epoch 8/10\n",
            "563/563 [==============================] - 2s 3ms/step - loss: 0.7572 - accuracy: 0.5886 - val_loss: 0.5837 - val_accuracy: 0.7333\n",
            "Epoch 9/10\n",
            "563/563 [==============================] - 2s 3ms/step - loss: 0.4157 - accuracy: 0.8555 - val_loss: 0.3506 - val_accuracy: 0.8663\n",
            "Epoch 10/10\n",
            "563/563 [==============================] - 2s 3ms/step - loss: 0.3249 - accuracy: 0.8726 - val_loss: 0.3260 - val_accuracy: 0.8663\n"
          ]
        }
      ],
      "source": [
        "tf.random.set_seed(42)\n",
        "\n",
        "# creation\n",
        "model_11 = tf.keras.Sequential([\n",
        "    tf.keras.layers.Flatten(input_shape=(28, 28)),\n",
        "    tf.keras.layers.Dense(4, activation=\"relu\"),\n",
        "    tf.keras.layers.Dense(4, activation=\"relu\"),\n",
        "    tf.keras.layers.Dense(10, activation=\"softmax\")\n",
        "])\n",
        "\n",
        "#compile\n",
        "model_11.compile(loss=tf.keras.losses.SparseCategoricalCrossentropy(),\n",
        "                 optimizer = tf.keras.optimizers.Adam(),\n",
        "                 metrics=[\"accuracy\"])\n",
        "\n",
        "# fit model\n",
        "not_normalized_data = model_11.fit(train_data, \n",
        "                                   train_labels,\n",
        "                                   epochs=10,\n",
        "                                   validation_data=(test_data, test_labels))"
      ]
    },
    {
      "cell_type": "code",
      "execution_count": null,
      "metadata": {
        "id": "feGeCN_WYemM",
        "outputId": "6846a39c-c95a-4432-8d47-fa94b1b6c6ed"
      },
      "outputs": [
        {
          "name": "stdout",
          "output_type": "stream",
          "text": [
            "Model: \"sequential\"\n",
            "_________________________________________________________________\n",
            " Layer (type)                Output Shape              Param #   \n",
            "=================================================================\n",
            " flatten (Flatten)           (None, 784)               0         \n",
            "                                                                 \n",
            " dense (Dense)               (None, 4)                 3140      \n",
            "                                                                 \n",
            " dense_1 (Dense)             (None, 4)                 20        \n",
            "                                                                 \n",
            " dense_2 (Dense)             (None, 10)                50        \n",
            "                                                                 \n",
            "=================================================================\n",
            "Total params: 3,210\n",
            "Trainable params: 3,210\n",
            "Non-trainable params: 0\n",
            "_________________________________________________________________\n"
          ]
        }
      ],
      "source": [
        "model_11.summary()"
      ]
    },
    {
      "cell_type": "code",
      "execution_count": null,
      "metadata": {
        "id": "UhqAEcOoYemN",
        "outputId": "1685bc3b-1a20-43f2-eaea-3a9a458c7545"
      },
      "outputs": [
        {
          "data": {
            "text/plain": [
              "<AxesSubplot:title={'center':'Non-normalized Data'}>"
            ]
          },
          "execution_count": 11,
          "metadata": {},
          "output_type": "execute_result"
        },
        {
          "data": {
            "image/png": "[encoded data removed]",
            "text/plain": [
              "<Figure size 432x288 with 1 Axes>"
            ]
          },
          "metadata": {
            "needs_background": "light"
          },
          "output_type": "display_data"
        }
      ],
      "source": [
        "# plot results for non normalized data\n",
        "pd.DataFrame(not_normalized_data.history).plot(title=\"Non-normalized Data\")"
      ]
    },
    {
      "cell_type": "code",
      "execution_count": null,
      "metadata": {
        "id": "-W6PPmdrYemO",
        "outputId": "024daf2d-a65e-4606-cd7f-19d5a1b926c8"
      },
      "outputs": [
        {
          "name": "stdout",
          "output_type": "stream",
          "text": [
            "94/94 [==============================] - 0s 2ms/step\n"
          ]
        },
        {
          "data": {
            "text/plain": [
              "array([[ 720,  254,   26],\n",
              "       [ 117,  879,    4],\n",
              "       [   0,    0, 1000]], dtype=int64)"
            ]
          },
          "execution_count": 12,
          "metadata": {},
          "output_type": "execute_result"
        }
      ],
      "source": [
        "# confusion matrix \n",
        "y_probs = model_11.predict(test_data)\n",
        "\n",
        "y_preds = y_probs.argmax(axis=1)\n",
        "confusion_matrix(y_true = test_labels,\n",
        "                 y_pred = y_preds)"
      ]
    },
    {
      "cell_type": "code",
      "execution_count": null,
      "metadata": {
        "id": "pf76LHcQYemP"
      },
      "outputs": [],
      "source": [
        "# normalize data\n",
        "train_data = train_data / 255.0\n",
        "test_data = test_data / 255.0"
      ]
    },
    {
      "cell_type": "code",
      "execution_count": null,
      "metadata": {
        "scrolled": false,
        "id": "ckoyzL_xYemQ",
        "outputId": "62ac450d-c58a-406f-b00c-53affc84186d"
      },
      "outputs": [
        {
          "name": "stdout",
          "output_type": "stream",
          "text": [
            "Epoch 1/10\n",
            "563/563 [==============================] - 3s 3ms/step - loss: 0.4676 - accuracy: 0.8772 - val_loss: 0.1419 - val_accuracy: 0.9540\n",
            "Epoch 2/10\n",
            "563/563 [==============================] - 2s 3ms/step - loss: 0.1231 - accuracy: 0.9537 - val_loss: 0.1225 - val_accuracy: 0.9553\n",
            "Epoch 3/10\n",
            "563/563 [==============================] - 2s 3ms/step - loss: 0.1106 - accuracy: 0.9576 - val_loss: 0.1148 - val_accuracy: 0.9580\n",
            "Epoch 4/10\n",
            "563/563 [==============================] - 2s 3ms/step - loss: 0.1024 - accuracy: 0.9612 - val_loss: 0.1097 - val_accuracy: 0.9617\n",
            "Epoch 5/10\n",
            "563/563 [==============================] - 2s 3ms/step - loss: 0.0966 - accuracy: 0.9628 - val_loss: 0.1168 - val_accuracy: 0.9553\n",
            "Epoch 6/10\n",
            "563/563 [==============================] - 2s 3ms/step - loss: 0.0917 - accuracy: 0.9647 - val_loss: 0.1105 - val_accuracy: 0.9603\n",
            "Epoch 7/10\n",
            "563/563 [==============================] - 2s 3ms/step - loss: 0.0889 - accuracy: 0.9654 - val_loss: 0.1085 - val_accuracy: 0.9593\n",
            "Epoch 8/10\n",
            "563/563 [==============================] - 2s 3ms/step - loss: 0.0848 - accuracy: 0.9674 - val_loss: 0.1079 - val_accuracy: 0.9603\n",
            "Epoch 9/10\n",
            "563/563 [==============================] - 2s 3ms/step - loss: 0.0859 - accuracy: 0.9672 - val_loss: 0.1061 - val_accuracy: 0.9607\n",
            "Epoch 10/10\n",
            "563/563 [==============================] - 2s 3ms/step - loss: 0.0824 - accuracy: 0.9694 - val_loss: 0.1175 - val_accuracy: 0.9577\n"
          ]
        }
      ],
      "source": [
        "tf.random.set_seed(42)\n",
        "\n",
        "# creation\n",
        "model_12 = tf.keras.Sequential([\n",
        "    tf.keras.layers.Flatten(input_shape=(28, 28)),\n",
        "    tf.keras.layers.Dense(4, activation=\"relu\"),\n",
        "    tf.keras.layers.Dense(4, activation=\"relu\"),\n",
        "    tf.keras.layers.Dense(10, activation=\"softmax\")\n",
        "])\n",
        "\n",
        "#compile\n",
        "model_12.compile(loss=tf.keras.losses.SparseCategoricalCrossentropy(),\n",
        "                 optimizer = tf.keras.optimizers.Adam(),\n",
        "                 metrics=[\"accuracy\"])\n",
        "\n",
        "# fit model with NORMALIZED data\n",
        "normalized_data = model_12.fit(train_data, \n",
        "                                   train_labels,\n",
        "                                   epochs=10,\n",
        "                                   validation_data=(test_data, test_labels))"
      ]
    },
    {
      "cell_type": "code",
      "execution_count": null,
      "metadata": {
        "id": "2trf5iOwYemR",
        "outputId": "80245f50-593e-4d8d-a10f-3d327d5cdcbc"
      },
      "outputs": [
        {
          "data": {
            "text/plain": [
              "<AxesSubplot:title={'center':'Normalized data'}>"
            ]
          },
          "execution_count": 15,
          "metadata": {},
          "output_type": "execute_result"
        },
        {
          "data": {
            "image/png": "[encoded data removed]",
            "text/plain": [
              "<Figure size 432x288 with 1 Axes>"
            ]
          },
          "metadata": {
            "needs_background": "light"
          },
          "output_type": "display_data"
        }
      ],
      "source": [
        "pd.DataFrame(normalized_data.history).plot(title=\"Normalized data\")"
      ]
    },
    {
      "cell_type": "code",
      "execution_count": null,
      "metadata": {
        "id": "qM74mZJyYemR",
        "outputId": "c94757ec-22f3-4601-d8a3-566734019f12"
      },
      "outputs": [
        {
          "name": "stdout",
          "output_type": "stream",
          "text": [
            "94/94 [==============================] - 0s 2ms/step\n"
          ]
        },
        {
          "data": {
            "text/plain": [
              "array([[ 898,  102,    0],\n",
              "       [  25,  975,    0],\n",
              "       [   0,    0, 1000]], dtype=int64)"
            ]
          },
          "execution_count": 16,
          "metadata": {},
          "output_type": "execute_result"
        }
      ],
      "source": [
        "# confusion matrix \n",
        "y_probs = model_12.predict(test_data)\n",
        "\n",
        "y_preds = y_probs.argmax(axis=1)\n",
        "confusion_matrix(y_true = test_labels,\n",
        "                 y_pred = y_preds)"
      ]
    },
    {
      "cell_type": "markdown",
      "metadata": {
        "id": "eRUUjsbnYemS"
      },
      "source": [
        "### Бачимо, що на нормалізованих даних точність моделі є кращою, а значення втрат меншим"
      ]
    },
    {
      "cell_type": "code",
      "execution_count": null,
      "metadata": {
        "scrolled": false,
        "id": "pZn4DfBGYemT",
        "outputId": "f1ff2998-36ef-4fe4-b88c-3849783a2714"
      },
      "outputs": [
        {
          "name": "stdout",
          "output_type": "stream",
          "text": [
            "Epoch 1/40\n",
            "563/563 [==============================] - 3s 3ms/step - loss: 0.4676 - accuracy: 0.8772 - val_loss: 0.1419 - val_accuracy: 0.9540 - lr: 0.0010\n",
            "Epoch 2/40\n",
            "563/563 [==============================] - 2s 3ms/step - loss: 0.1229 - accuracy: 0.9543 - val_loss: 0.1218 - val_accuracy: 0.9570 - lr: 0.0011\n",
            "Epoch 3/40\n",
            "563/563 [==============================] - 2s 3ms/step - loss: 0.1099 - accuracy: 0.9582 - val_loss: 0.1193 - val_accuracy: 0.9537 - lr: 0.0013\n",
            "Epoch 4/40\n",
            "563/563 [==============================] - 2s 3ms/step - loss: 0.1016 - accuracy: 0.9615 - val_loss: 0.1078 - val_accuracy: 0.9610 - lr: 0.0014\n",
            "Epoch 5/40\n",
            "563/563 [==============================] - 2s 3ms/step - loss: 0.0960 - accuracy: 0.9634 - val_loss: 0.1221 - val_accuracy: 0.9530 - lr: 0.0016\n",
            "Epoch 6/40\n",
            "563/563 [==============================] - 2s 3ms/step - loss: 0.0933 - accuracy: 0.9642 - val_loss: 0.1111 - val_accuracy: 0.9577 - lr: 0.0018\n",
            "Epoch 7/40\n",
            "563/563 [==============================] - 1s 3ms/step - loss: 0.0905 - accuracy: 0.9651 - val_loss: 0.1068 - val_accuracy: 0.9607 - lr: 0.0020\n",
            "Epoch 8/40\n",
            "563/563 [==============================] - 1s 3ms/step - loss: 0.0868 - accuracy: 0.9657 - val_loss: 0.1064 - val_accuracy: 0.9600 - lr: 0.0022\n",
            "Epoch 9/40\n",
            "563/563 [==============================] - 1s 2ms/step - loss: 0.0890 - accuracy: 0.9665 - val_loss: 0.1044 - val_accuracy: 0.9580 - lr: 0.0025\n",
            "Epoch 10/40\n",
            "563/563 [==============================] - 2s 3ms/step - loss: 0.0841 - accuracy: 0.9687 - val_loss: 0.1255 - val_accuracy: 0.9523 - lr: 0.0028\n",
            "Epoch 11/40\n",
            "563/563 [==============================] - 1s 2ms/step - loss: 0.0836 - accuracy: 0.9683 - val_loss: 0.1112 - val_accuracy: 0.9613 - lr: 0.0032\n",
            "Epoch 12/40\n",
            "563/563 [==============================] - 1s 2ms/step - loss: 0.0835 - accuracy: 0.9696 - val_loss: 0.1264 - val_accuracy: 0.9510 - lr: 0.0035\n",
            "Epoch 13/40\n",
            "563/563 [==============================] - 1s 2ms/step - loss: 0.0833 - accuracy: 0.9677 - val_loss: 0.1138 - val_accuracy: 0.9547 - lr: 0.0040\n",
            "Epoch 14/40\n",
            "563/563 [==============================] - 1s 3ms/step - loss: 0.0829 - accuracy: 0.9671 - val_loss: 0.1035 - val_accuracy: 0.9587 - lr: 0.0045\n",
            "Epoch 15/40\n",
            "563/563 [==============================] - 2s 3ms/step - loss: 0.0825 - accuracy: 0.9688 - val_loss: 0.1676 - val_accuracy: 0.9433 - lr: 0.0050\n",
            "Epoch 16/40\n",
            "563/563 [==============================] - 2s 3ms/step - loss: 0.0813 - accuracy: 0.9689 - val_loss: 0.1198 - val_accuracy: 0.9557 - lr: 0.0056\n",
            "Epoch 17/40\n",
            "563/563 [==============================] - 1s 3ms/step - loss: 0.0804 - accuracy: 0.9699 - val_loss: 0.1050 - val_accuracy: 0.9633 - lr: 0.0063\n",
            "Epoch 18/40\n",
            "563/563 [==============================] - 1s 3ms/step - loss: 0.0822 - accuracy: 0.9693 - val_loss: 0.1219 - val_accuracy: 0.9513 - lr: 0.0071\n",
            "Epoch 19/40\n",
            "563/563 [==============================] - 2s 3ms/step - loss: 0.0839 - accuracy: 0.9681 - val_loss: 0.1107 - val_accuracy: 0.9580 - lr: 0.0079\n",
            "Epoch 20/40\n",
            "563/563 [==============================] - 2s 3ms/step - loss: 0.0779 - accuracy: 0.9694 - val_loss: 0.1394 - val_accuracy: 0.9520 - lr: 0.0089\n",
            "Epoch 21/40\n",
            "563/563 [==============================] - 2s 3ms/step - loss: 0.0815 - accuracy: 0.9691 - val_loss: 0.1041 - val_accuracy: 0.9613 - lr: 0.0100\n",
            "Epoch 22/40\n",
            "563/563 [==============================] - 1s 3ms/step - loss: 0.0874 - accuracy: 0.9666 - val_loss: 0.1362 - val_accuracy: 0.9567 - lr: 0.0112\n",
            "Epoch 23/40\n",
            "563/563 [==============================] - 2s 3ms/step - loss: 0.0854 - accuracy: 0.9661 - val_loss: 0.1381 - val_accuracy: 0.9517 - lr: 0.0126\n",
            "Epoch 24/40\n",
            "563/563 [==============================] - 2s 3ms/step - loss: 0.0890 - accuracy: 0.9659 - val_loss: 0.1305 - val_accuracy: 0.9450 - lr: 0.0141\n",
            "Epoch 25/40\n",
            "563/563 [==============================] - 2s 3ms/step - loss: 0.0807 - accuracy: 0.9695 - val_loss: 0.1015 - val_accuracy: 0.9617 - lr: 0.0158\n",
            "Epoch 26/40\n",
            "563/563 [==============================] - 2s 3ms/step - loss: 0.0794 - accuracy: 0.9703 - val_loss: 0.1067 - val_accuracy: 0.9597 - lr: 0.0178\n",
            "Epoch 27/40\n",
            "563/563 [==============================] - 1s 3ms/step - loss: 0.0926 - accuracy: 0.9653 - val_loss: 0.1132 - val_accuracy: 0.9537 - lr: 0.0200\n",
            "Epoch 28/40\n",
            "563/563 [==============================] - 1s 3ms/step - loss: 0.0851 - accuracy: 0.9667 - val_loss: 0.1203 - val_accuracy: 0.9567 - lr: 0.0224\n",
            "Epoch 29/40\n",
            "563/563 [==============================] - 1s 3ms/step - loss: 0.0930 - accuracy: 0.9650 - val_loss: 0.1731 - val_accuracy: 0.9463 - lr: 0.0251\n",
            "Epoch 30/40\n",
            "563/563 [==============================] - 1s 3ms/step - loss: 0.1552 - accuracy: 0.9423 - val_loss: 0.1507 - val_accuracy: 0.9547 - lr: 0.0282\n",
            "Epoch 31/40\n",
            "563/563 [==============================] - 1s 3ms/step - loss: 0.1169 - accuracy: 0.9578 - val_loss: 0.1188 - val_accuracy: 0.9547 - lr: 0.0316\n",
            "Epoch 32/40\n",
            "563/563 [==============================] - 1s 3ms/step - loss: 0.1103 - accuracy: 0.9582 - val_loss: 0.1660 - val_accuracy: 0.9353 - lr: 0.0355\n",
            "Epoch 33/40\n",
            "563/563 [==============================] - 1s 3ms/step - loss: 0.1314 - accuracy: 0.9442 - val_loss: 0.1747 - val_accuracy: 0.9423 - lr: 0.0398\n",
            "Epoch 34/40\n",
            "563/563 [==============================] - 1s 3ms/step - loss: 0.1069 - accuracy: 0.9607 - val_loss: 0.1097 - val_accuracy: 0.9620 - lr: 0.0447\n",
            "Epoch 35/40\n",
            "563/563 [==============================] - 1s 3ms/step - loss: 0.1309 - accuracy: 0.9562 - val_loss: 0.1102 - val_accuracy: 0.9617 - lr: 0.0501\n",
            "Epoch 36/40\n",
            "563/563 [==============================] - 1s 3ms/step - loss: 0.1312 - accuracy: 0.9564 - val_loss: 0.1527 - val_accuracy: 0.9390 - lr: 0.0562\n",
            "Epoch 37/40\n",
            "563/563 [==============================] - 1s 3ms/step - loss: 0.1187 - accuracy: 0.9586 - val_loss: 0.1635 - val_accuracy: 0.9617 - lr: 0.0631\n",
            "Epoch 38/40\n",
            "563/563 [==============================] - 1s 3ms/step - loss: 0.1208 - accuracy: 0.9582 - val_loss: 0.1482 - val_accuracy: 0.9397 - lr: 0.0708\n",
            "Epoch 39/40\n",
            "563/563 [==============================] - 1s 3ms/step - loss: 0.1526 - accuracy: 0.9484 - val_loss: 0.1613 - val_accuracy: 0.9520 - lr: 0.0794\n",
            "Epoch 40/40\n",
            "563/563 [==============================] - 1s 3ms/step - loss: 0.1627 - accuracy: 0.9411 - val_loss: 0.1988 - val_accuracy: 0.9397 - lr: 0.0891\n"
          ]
        }
      ],
      "source": [
        "tf.random.set_seed(42)\n",
        "\n",
        "# creation the model and fitting with different values of learning_rate\n",
        "model_13 = tf.keras.Sequential([\n",
        "    tf.keras.layers.Flatten(input_shape=(28, 28)),\n",
        "    tf.keras.layers.Dense(4, activation=\"relu\"),\n",
        "    tf.keras.layers.Dense(4, activation=\"relu\"),\n",
        "    tf.keras.layers.Dense(10, activation=\"softmax\")\n",
        "])\n",
        "\n",
        "lr_scheduler = tf.keras.callbacks.LearningRateScheduler(lambda epoch: 1e-3 * 10**(epoch/20))\n",
        "\n",
        "model_13.compile(loss=tf.keras.losses.SparseCategoricalCrossentropy(),\n",
        "                 optimizer = tf.keras.optimizers.Adam(),\n",
        "                 metrics=[\"accuracy\"])\n",
        "\n",
        "# fit model with NORMALIZED data\n",
        "find_lr_history = model_13.fit(train_data,\n",
        "                               train_labels,\n",
        "                               epochs=40, # model already doing pretty good with current LR, probably don't need 100 epochs\n",
        "                               validation_data=(test_data, test_labels),\n",
        "                               callbacks=[lr_scheduler])"
      ]
    },
    {
      "cell_type": "code",
      "execution_count": null,
      "metadata": {
        "id": "Hz5vb2aeYemT",
        "outputId": "58618328-06ff-4995-8ac3-bfbc6c0648d2"
      },
      "outputs": [
        {
          "data": {
            "text/plain": [
              "Text(0.5, 1.0, 'Finding the ideal learning rate')"
            ]
          },
          "execution_count": 18,
          "metadata": {},
          "output_type": "execute_result"
        },
        {
          "data": {
            "image/png": "[encoded data removed]",
            "text/plain": [
              "<Figure size 432x288 with 1 Axes>"
            ]
          },
          "metadata": {
            "needs_background": "light"
          },
          "output_type": "display_data"
        }
      ],
      "source": [
        "# finding the best learning rate\n",
        "lrs = 1e-3 * (10**(np.arange(40)/20))\n",
        "plt.semilogx(lrs, find_lr_history.history[\"loss\"])\n",
        "plt.xlabel(\"Learning rate\")\n",
        "plt.ylabel(\"Loss\")\n",
        "plt.title(\"Finding the ideal learning rate\")"
      ]
    },
    {
      "cell_type": "code",
      "execution_count": null,
      "metadata": {
        "id": "9VwBzxvTYemU",
        "outputId": "4d2a30ae-1a5d-48db-a52a-56e530d93815"
      },
      "outputs": [
        {
          "name": "stdout",
          "output_type": "stream",
          "text": [
            "The best learning_rate in loss value: 0.078\n"
          ]
        }
      ],
      "source": [
        "l_rate = min(find_lr_history.history[\"loss\"])\n",
        "print('The best learning_rate in loss value:', np.round(l_rate, 3))"
      ]
    },
    {
      "cell_type": "code",
      "execution_count": null,
      "metadata": {
        "id": "xtZ4pCJTYemV",
        "outputId": "cfae763a-454d-4674-a348-556745170ab0"
      },
      "outputs": [
        {
          "name": "stdout",
          "output_type": "stream",
          "text": [
            "Epoch 1/10\n",
            "563/563 [==============================] - 2s 3ms/step - loss: 0.3818 - accuracy: 0.8492 - val_loss: 0.1427 - val_accuracy: 0.9517\n",
            "Epoch 2/10\n",
            "563/563 [==============================] - 1s 3ms/step - loss: 0.1269 - accuracy: 0.9551 - val_loss: 0.1337 - val_accuracy: 0.9547\n",
            "Epoch 3/10\n",
            "563/563 [==============================] - 1s 3ms/step - loss: 0.1171 - accuracy: 0.9587 - val_loss: 0.1465 - val_accuracy: 0.9467\n",
            "Epoch 4/10\n",
            "563/563 [==============================] - 1s 2ms/step - loss: 0.1062 - accuracy: 0.9626 - val_loss: 0.1163 - val_accuracy: 0.9593\n",
            "Epoch 5/10\n",
            "563/563 [==============================] - 2s 3ms/step - loss: 0.1018 - accuracy: 0.9618 - val_loss: 0.1204 - val_accuracy: 0.9570\n",
            "Epoch 6/10\n",
            "563/563 [==============================] - 1s 3ms/step - loss: 0.1000 - accuracy: 0.9623 - val_loss: 0.1251 - val_accuracy: 0.9523\n",
            "Epoch 7/10\n",
            "563/563 [==============================] - 1s 2ms/step - loss: 0.0993 - accuracy: 0.9631 - val_loss: 0.1185 - val_accuracy: 0.9580\n",
            "Epoch 8/10\n",
            "563/563 [==============================] - 1s 3ms/step - loss: 0.0942 - accuracy: 0.9657 - val_loss: 0.1161 - val_accuracy: 0.9597\n",
            "Epoch 9/10\n",
            "563/563 [==============================] - 1s 3ms/step - loss: 0.0989 - accuracy: 0.9642 - val_loss: 0.1162 - val_accuracy: 0.9600\n",
            "Epoch 10/10\n",
            "563/563 [==============================] - 1s 2ms/step - loss: 0.0954 - accuracy: 0.9636 - val_loss: 0.1355 - val_accuracy: 0.9523\n"
          ]
        }
      ],
      "source": [
        "tf.random.set_seed(42)\n",
        "\n",
        "# creation\n",
        "model_final = tf.keras.Sequential([\n",
        "    tf.keras.layers.Flatten(input_shape=(28, 28)),\n",
        "    tf.keras.layers.Dense(4, activation=\"relu\"),\n",
        "    tf.keras.layers.Dense(4, activation=\"relu\"),\n",
        "    tf.keras.layers.Dense(10, activation=\"softmax\")\n",
        "])\n",
        "\n",
        "#compile\n",
        "model_final.compile(loss=tf.keras.losses.SparseCategoricalCrossentropy(),\n",
        "                 optimizer = tf.keras.optimizers.Adam(learning_rate=0.01),\n",
        "                 metrics=[\"accuracy\"])\n",
        "\n",
        "# fit model with NORMALIZED data\n",
        "final_data = model_final.fit(train_data, \n",
        "                                   train_labels,\n",
        "                                   epochs=10,\n",
        "                                   validation_data=(test_data, test_labels))"
      ]
    },
    {
      "cell_type": "code",
      "execution_count": null,
      "metadata": {
        "id": "Ua4VBJvsYemV",
        "outputId": "000ce1d7-c8e3-4fc2-ae30-2fade9f363f9"
      },
      "outputs": [
        {
          "data": {
            "text/plain": [
              "<AxesSubplot:title={'center':'Final data'}>"
            ]
          },
          "execution_count": 21,
          "metadata": {},
          "output_type": "execute_result"
        },
        {
          "data": {
            "image/png": "[encoded data removed]",
            "text/plain": [
              "<Figure size 432x288 with 1 Axes>"
            ]
          },
          "metadata": {
            "needs_background": "light"
          },
          "output_type": "display_data"
        }
      ],
      "source": [
        "pd.DataFrame(final_data.history).plot(title=\"Final data\")"
      ]
    },
    {
      "cell_type": "code",
      "execution_count": null,
      "metadata": {
        "id": "QH3pjELtYemW",
        "outputId": "60b0b14a-e9c9-4a7d-8e9a-a8b0aa06e079"
      },
      "outputs": [
        {
          "name": "stdout",
          "output_type": "stream",
          "text": [
            "94/94 [==============================] - 0s 2ms/step\n"
          ]
        },
        {
          "data": {
            "text/plain": [
              "array([[ 893,  106,    1],\n",
              "       [  36,  964,    0],\n",
              "       [   0,    0, 1000]], dtype=int64)"
            ]
          },
          "execution_count": 22,
          "metadata": {},
          "output_type": "execute_result"
        }
      ],
      "source": [
        "# confusion matrix \n",
        "y_probs = model_final.predict(test_data)\n",
        "\n",
        "y_preds = y_probs.argmax(axis=1)\n",
        "confusion_matrix(y_true = test_labels,\n",
        "                 y_pred = y_preds)"
      ]
    },
    {
      "cell_type": "code",
      "execution_count": null,
      "metadata": {
        "id": "xeXLCwD-YemX",
        "outputId": "7af0f994-f177-4f29-ce33-4ab16e6980b3"
      },
      "outputs": [
        {
          "name": "stdout",
          "output_type": "stream",
          "text": [
            "Model: \"sequential_3\"\n",
            "_________________________________________________________________\n",
            " Layer (type)                Output Shape              Param #   \n",
            "=================================================================\n",
            " flatten_3 (Flatten)         (None, 784)               0         \n",
            "                                                                 \n",
            " dense_9 (Dense)             (None, 4)                 3140      \n",
            "                                                                 \n",
            " dense_10 (Dense)            (None, 4)                 20        \n",
            "                                                                 \n",
            " dense_11 (Dense)            (None, 10)                50        \n",
            "                                                                 \n",
            "=================================================================\n",
            "Total params: 3,210\n",
            "Trainable params: 3,210\n",
            "Non-trainable params: 0\n",
            "_________________________________________________________________\n"
          ]
        }
      ],
      "source": [
        "model_final.summary()"
      ]
    },
    {
      "cell_type": "code",
      "execution_count": null,
      "metadata": {
        "id": "s2CH5EtbYemY",
        "outputId": "20a62516-5728-410a-b0de-85ebbcc5958a"
      },
      "outputs": [
        {
          "data": {
            "image/png": "[encoded data removed]",
            "text/plain": [
              "<Figure size 504x504 with 6 Axes>"
            ]
          },
          "metadata": {
            "needs_background": "light"
          },
          "output_type": "display_data"
        }
      ],
      "source": [
        "# check our model results\n",
        "plt.figure(figsize=(7, 7))\n",
        "for i in range(6):\n",
        "    ax = plt.subplot(2, 3, i + 1)\n",
        "    rand_index = random.choice(range(len(test_data)))\n",
        "    plt.imshow(test_data[rand_index], cmap=plt.cm.binary)\n",
        "    plt.title(class_names[y_preds[rand_index]])\n",
        "    plt.axis(False)"
      ]
    },
    {
      "cell_type": "markdown",
      "metadata": {
        "id": "PlxfUCP_YemY"
      },
      "source": [
        "#### В ході виконання лабораторної роботи було створено та навчено модель, яка здатна розпізнавати різні типи одягу. Використано бібліотеку TensorFlow для створення моделі, використовували вбудовані метрики. Досліджено поведінку моделі при різних значеннях показника швидкості навчання (learning_rate) та аналіз моделі за допомоги матриці  помилок (confusion_matrix)"
      ]
    }
  ],
  "metadata": {
    "kernelspec": {
      "display_name": "Python 3 (ipykernel)",
      "language": "python",
      "name": "python3"
    },
    "language_info": {
      "codemirror_mode": {
        "name": "ipython",
        "version": 3
      },
      "file_extension": ".py",
      "mimetype": "text/x-python",
      "name": "python",
      "nbconvert_exporter": "python",
      "pygments_lexer": "ipython3",
      "version": "3.7.3"
    },
    "colab": {
      "name": "LR 4.ipynb",
      "provenance": [],
      "include_colab_link": true
    }
  },
  "nbformat": 4,
  "nbformat_minor": 0
}